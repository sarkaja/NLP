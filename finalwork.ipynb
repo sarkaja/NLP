{
 "cells": [
  {
   "cell_type": "code",
   "execution_count": 8,
   "metadata": {},
   "outputs": [
    {
     "name": "stdout",
     "output_type": "stream",
     "text": [
      "Collecting Covariance-Descriptor\n",
      "  Downloading Covariance_Descriptor-1.0.4-py3-none-any.whl (3.7 kB)\n",
      "Requirement already satisfied: scipy>=1.4.1 in c:\\users\\dell\\anaconda\\lib\\site-packages (from Covariance-Descriptor) (1.5.2)\n",
      "Requirement already satisfied: numpy>=1.16.2 in c:\\users\\dell\\anaconda\\lib\\site-packages (from Covariance-Descriptor) (1.20.1)\n",
      "Collecting opencv-python>=3.4.1\n",
      "  Downloading opencv_python-4.5.4.60-cp37-cp37m-win_amd64.whl (35.1 MB)\n",
      "Installing collected packages: opencv-python, Covariance-Descriptor\n",
      "Successfully installed Covariance-Descriptor-1.0.4 opencv-python-4.5.4.60\n",
      "Note: you may need to restart the kernel to use updated packages.\n"
     ]
    },
    {
     "name": "stderr",
     "output_type": "stream",
     "text": [
      "WARNING: Ignoring invalid distribution -umpy (c:\\users\\dell\\anaconda\\lib\\site-packages)\n",
      "WARNING: Ignoring invalid distribution -umpy (c:\\users\\dell\\anaconda\\lib\\site-packages)\n",
      "WARNING: Ignoring invalid distribution -umpy (c:\\users\\dell\\anaconda\\lib\\site-packages)\n",
      "WARNING: Ignoring invalid distribution -umpy (c:\\users\\dell\\anaconda\\lib\\site-packages)\n",
      "WARNING: Ignoring invalid distribution -umpy (c:\\users\\dell\\anaconda\\lib\\site-packages)\n",
      "WARNING: Ignoring invalid distribution -umpy (c:\\users\\dell\\anaconda\\lib\\site-packages)\n",
      "WARNING: Ignoring invalid distribution -umpy (c:\\users\\dell\\anaconda\\lib\\site-packages)\n"
     ]
    }
   ],
   "source": [
    "pip install Covariance-Descriptor"
   ]
  },
  {
   "cell_type": "code",
   "execution_count": 14,
   "metadata": {},
   "outputs": [],
   "source": [
    "import pandas as pd \n",
    "import numpy as np\n",
    "import matplotlib.pyplot as plt\n",
    "import seaborn as sns\n",
    "from statistics import mean"
   ]
  },
  {
   "cell_type": "code",
   "execution_count": 2,
   "metadata": {},
   "outputs": [],
   "source": [
    "dsent = pd.read_csv('dsent.csv',\n",
    "                   index_col = False,\n",
    "                   low_memory = False)"
   ]
  },
  {
   "cell_type": "code",
   "execution_count": 11,
   "metadata": {},
   "outputs": [
    {
     "data": {
      "text/html": [
       "<div>\n",
       "<style scoped>\n",
       "    .dataframe tbody tr th:only-of-type {\n",
       "        vertical-align: middle;\n",
       "    }\n",
       "\n",
       "    .dataframe tbody tr th {\n",
       "        vertical-align: top;\n",
       "    }\n",
       "\n",
       "    .dataframe thead th {\n",
       "        text-align: right;\n",
       "    }\n",
       "</style>\n",
       "<table border=\"1\" class=\"dataframe\">\n",
       "  <thead>\n",
       "    <tr style=\"text-align: right;\">\n",
       "      <th></th>\n",
       "      <th>review_id</th>\n",
       "      <th>user_id</th>\n",
       "      <th>business_id</th>\n",
       "      <th>stars_x</th>\n",
       "      <th>useful_x</th>\n",
       "      <th>funny_x</th>\n",
       "      <th>cool_x</th>\n",
       "      <th>text</th>\n",
       "      <th>date</th>\n",
       "      <th>attributes.RestaurantsDelivery</th>\n",
       "      <th>...</th>\n",
       "      <th>Ambience_casual</th>\n",
       "      <th>BP_garage</th>\n",
       "      <th>BP_street</th>\n",
       "      <th>BP_validated</th>\n",
       "      <th>BP_lot</th>\n",
       "      <th>BP_valet</th>\n",
       "      <th>text_upr</th>\n",
       "      <th>lemmatized</th>\n",
       "      <th>lemma_str</th>\n",
       "      <th>sentiment</th>\n",
       "    </tr>\n",
       "  </thead>\n",
       "  <tbody>\n",
       "    <tr>\n",
       "      <th>0</th>\n",
       "      <td>Gi5LSRmTXoL9Bp4jNGPjLw</td>\n",
       "      <td>hn0ZbitvmlHnF--KJGJ6_A</td>\n",
       "      <td>TA1KUSCu8GkWP9w0rmElxw</td>\n",
       "      <td>4</td>\n",
       "      <td>0</td>\n",
       "      <td>0</td>\n",
       "      <td>0</td>\n",
       "      <td>I have been here twice and have had really goo...</td>\n",
       "      <td>2011-10-27 14:32:57</td>\n",
       "      <td>True</td>\n",
       "      <td>...</td>\n",
       "      <td>False</td>\n",
       "      <td>False</td>\n",
       "      <td>False</td>\n",
       "      <td>False</td>\n",
       "      <td>True</td>\n",
       "      <td>False</td>\n",
       "      <td>['I', 'have', 'been', 'here', 'twice', 'and', ...</td>\n",
       "      <td>['twice', 'really', 'good', 'food', 'service',...</td>\n",
       "      <td>twice really good food service time get burger...</td>\n",
       "      <td>0.182259</td>\n",
       "    </tr>\n",
       "    <tr>\n",
       "      <th>1</th>\n",
       "      <td>egHMQBhFeaLhVyC6w3r0vQ</td>\n",
       "      <td>HvpNr0ohHCaVLp014CQrdw</td>\n",
       "      <td>gGvNgShksetPoimyKV8I9Q</td>\n",
       "      <td>4</td>\n",
       "      <td>0</td>\n",
       "      <td>0</td>\n",
       "      <td>0</td>\n",
       "      <td>Quickly stopped in for a UFC fight. I sat down...</td>\n",
       "      <td>2015-10-04 05:37:01</td>\n",
       "      <td>True</td>\n",
       "      <td>...</td>\n",
       "      <td>True</td>\n",
       "      <td>False</td>\n",
       "      <td>False</td>\n",
       "      <td>False</td>\n",
       "      <td>False</td>\n",
       "      <td>True</td>\n",
       "      <td>['Quickly', 'stopped', 'in', 'for', 'a', 'UFC'...</td>\n",
       "      <td>['quickly', 'stop', 'ufc', 'fight', 'sit', 'ba...</td>\n",
       "      <td>quickly stop ufc fight sit bar boyfriend park ...</td>\n",
       "      <td>0.288889</td>\n",
       "    </tr>\n",
       "    <tr>\n",
       "      <th>2</th>\n",
       "      <td>GDgXjXSZCA1iNQWD7OHXfg</td>\n",
       "      <td>1RCRKuHgP3FskGUVnmFdxg</td>\n",
       "      <td>mOnesB4IF9j6-ZmHoOHOig</td>\n",
       "      <td>4</td>\n",
       "      <td>0</td>\n",
       "      <td>0</td>\n",
       "      <td>0</td>\n",
       "      <td>I think their rice dishes are way better than ...</td>\n",
       "      <td>2017-05-26 03:05:46</td>\n",
       "      <td>True</td>\n",
       "      <td>...</td>\n",
       "      <td>True</td>\n",
       "      <td>False</td>\n",
       "      <td>False</td>\n",
       "      <td>False</td>\n",
       "      <td>True</td>\n",
       "      <td>False</td>\n",
       "      <td>['I', 'think', 'their', 'rice', 'dishes', 'are...</td>\n",
       "      <td>['think', 'rice', 'dish', 'way', 'well', 'pho'...</td>\n",
       "      <td>think rice dish way well pho 's also really li...</td>\n",
       "      <td>0.350000</td>\n",
       "    </tr>\n",
       "    <tr>\n",
       "      <th>3</th>\n",
       "      <td>WxrK52MRJy6Cxk_vOJeD1Q</td>\n",
       "      <td>9d22a-5XXvsZ55p04gI5jA</td>\n",
       "      <td>_gOz7-aHMyGUHOtjDrEv2w</td>\n",
       "      <td>2</td>\n",
       "      <td>4</td>\n",
       "      <td>2</td>\n",
       "      <td>0</td>\n",
       "      <td>When we first arrived at the Coco Key, we were...</td>\n",
       "      <td>2017-09-20 15:38:27</td>\n",
       "      <td>False</td>\n",
       "      <td>...</td>\n",
       "      <td>False</td>\n",
       "      <td>False</td>\n",
       "      <td>False</td>\n",
       "      <td>False</td>\n",
       "      <td>True</td>\n",
       "      <td>False</td>\n",
       "      <td>['When', 'we', 'first', 'arrived', 'at', 'the'...</td>\n",
       "      <td>['first', 'arrive', 'coco', 'key', 'greet', 'n...</td>\n",
       "      <td>first arrive coco key greet number staff membe...</td>\n",
       "      <td>-0.071723</td>\n",
       "    </tr>\n",
       "    <tr>\n",
       "      <th>4</th>\n",
       "      <td>GgWFjRHhelaiUgR2-H6N4g</td>\n",
       "      <td>pRPT3vqhqpU7kHgmKJamvw</td>\n",
       "      <td>-_GnwXmzC3DXsHR9nyaC2g</td>\n",
       "      <td>3</td>\n",
       "      <td>0</td>\n",
       "      <td>0</td>\n",
       "      <td>0</td>\n",
       "      <td>3.5 stars! I got the avocado margarita and it ...</td>\n",
       "      <td>2012-11-06 07:09:57</td>\n",
       "      <td>True</td>\n",
       "      <td>...</td>\n",
       "      <td>True</td>\n",
       "      <td>False</td>\n",
       "      <td>True</td>\n",
       "      <td>False</td>\n",
       "      <td>True</td>\n",
       "      <td>False</td>\n",
       "      <td>['3.5', 'stars!', 'I', 'got', 'the', 'avocado'...</td>\n",
       "      <td>['3.5', 'star', 'get', 'avocado', 'margarita',...</td>\n",
       "      <td>3.5 star get avocado margarita delicious custo...</td>\n",
       "      <td>0.400000</td>\n",
       "    </tr>\n",
       "    <tr>\n",
       "      <th>...</th>\n",
       "      <td>...</td>\n",
       "      <td>...</td>\n",
       "      <td>...</td>\n",
       "      <td>...</td>\n",
       "      <td>...</td>\n",
       "      <td>...</td>\n",
       "      <td>...</td>\n",
       "      <td>...</td>\n",
       "      <td>...</td>\n",
       "      <td>...</td>\n",
       "      <td>...</td>\n",
       "      <td>...</td>\n",
       "      <td>...</td>\n",
       "      <td>...</td>\n",
       "      <td>...</td>\n",
       "      <td>...</td>\n",
       "      <td>...</td>\n",
       "      <td>...</td>\n",
       "      <td>...</td>\n",
       "      <td>...</td>\n",
       "      <td>...</td>\n",
       "    </tr>\n",
       "    <tr>\n",
       "      <th>214869</th>\n",
       "      <td>Mc6gBUoqj8VNyGHBOTIPCw</td>\n",
       "      <td>_XXa8CyI4uKOdu6RRbWE4g</td>\n",
       "      <td>cs6HfZNykLVitm09jWFqWg</td>\n",
       "      <td>4</td>\n",
       "      <td>5</td>\n",
       "      <td>3</td>\n",
       "      <td>4</td>\n",
       "      <td>I went here for brunch with 2 friends on a Sun...</td>\n",
       "      <td>2018-04-17 00:28:02</td>\n",
       "      <td>False</td>\n",
       "      <td>...</td>\n",
       "      <td>True</td>\n",
       "      <td>False</td>\n",
       "      <td>True</td>\n",
       "      <td>False</td>\n",
       "      <td>False</td>\n",
       "      <td>True</td>\n",
       "      <td>['I', 'went', 'here', 'for', 'brunch', 'with',...</td>\n",
       "      <td>['go', 'brunch', '2', 'friend', 'sunday', 'awh...</td>\n",
       "      <td>go brunch 2 friend sunday awhile back buffet s...</td>\n",
       "      <td>0.500000</td>\n",
       "    </tr>\n",
       "    <tr>\n",
       "      <th>214870</th>\n",
       "      <td>jDMk2EEGG-fkuA2rnCr0zg</td>\n",
       "      <td>KTgetFhipsOG1vWfVuSaiA</td>\n",
       "      <td>cs6HfZNykLVitm09jWFqWg</td>\n",
       "      <td>5</td>\n",
       "      <td>0</td>\n",
       "      <td>0</td>\n",
       "      <td>0</td>\n",
       "      <td>Our group shared dinner entrees and side dishe...</td>\n",
       "      <td>2017-10-13 21:02:12</td>\n",
       "      <td>False</td>\n",
       "      <td>...</td>\n",
       "      <td>True</td>\n",
       "      <td>False</td>\n",
       "      <td>True</td>\n",
       "      <td>False</td>\n",
       "      <td>False</td>\n",
       "      <td>True</td>\n",
       "      <td>['Our', 'group', 'shared', 'dinner', 'entrees'...</td>\n",
       "      <td>['group', 'share', 'dinner', 'entree', 'side',...</td>\n",
       "      <td>group share dinner entree side dish best food ...</td>\n",
       "      <td>0.125000</td>\n",
       "    </tr>\n",
       "    <tr>\n",
       "      <th>214871</th>\n",
       "      <td>MbmrN5q_JKkokjOdqLXxhQ</td>\n",
       "      <td>SF2Hu55kX9QJDvZETuZ9eg</td>\n",
       "      <td>uXOVFQraz1va1TrtgiqYTg</td>\n",
       "      <td>4</td>\n",
       "      <td>0</td>\n",
       "      <td>0</td>\n",
       "      <td>0</td>\n",
       "      <td>This was a fun place to dine. It is a one chef...</td>\n",
       "      <td>2016-10-31 20:47:16</td>\n",
       "      <td>False</td>\n",
       "      <td>...</td>\n",
       "      <td>True</td>\n",
       "      <td>False</td>\n",
       "      <td>True</td>\n",
       "      <td>False</td>\n",
       "      <td>False</td>\n",
       "      <td>False</td>\n",
       "      <td>['This', 'was', 'a', 'fun', 'place', 'to', 'di...</td>\n",
       "      <td>['fun', 'place', 'dine', 'one', 'chef', 'kitch...</td>\n",
       "      <td>fun place dine one chef kitchen wait 1 hr get ...</td>\n",
       "      <td>0.362500</td>\n",
       "    </tr>\n",
       "    <tr>\n",
       "      <th>214872</th>\n",
       "      <td>2n2PbNLYlQSRs88VrZtrGg</td>\n",
       "      <td>_BwuIa1-qjIL1PdYB_awyA</td>\n",
       "      <td>Gzo1G_mMc2kpduvK2yQFYg</td>\n",
       "      <td>2</td>\n",
       "      <td>0</td>\n",
       "      <td>0</td>\n",
       "      <td>0</td>\n",
       "      <td>The food was ok. I order the pork bites and it...</td>\n",
       "      <td>2015-07-21 13:21:59</td>\n",
       "      <td>False</td>\n",
       "      <td>...</td>\n",
       "      <td>True</td>\n",
       "      <td>False</td>\n",
       "      <td>False</td>\n",
       "      <td>False</td>\n",
       "      <td>True</td>\n",
       "      <td>False</td>\n",
       "      <td>['The', 'food', 'was', 'ok.', 'I', 'order', 't...</td>\n",
       "      <td>['food', 'ok', 'order', 'pork', 'bite', 'good'...</td>\n",
       "      <td>food ok order pork bite good wife order combin...</td>\n",
       "      <td>-0.051852</td>\n",
       "    </tr>\n",
       "    <tr>\n",
       "      <th>214873</th>\n",
       "      <td>sjSj7jSR7qncgIpO-vtitA</td>\n",
       "      <td>_N50LtqyuBHCHvFpaPv7tw</td>\n",
       "      <td>zioLxtBc9THNS2TOn9xW1w</td>\n",
       "      <td>4</td>\n",
       "      <td>0</td>\n",
       "      <td>0</td>\n",
       "      <td>0</td>\n",
       "      <td>Fish sauce wings.. out of this world. I did ov...</td>\n",
       "      <td>2014-01-04 03:19:41</td>\n",
       "      <td>True</td>\n",
       "      <td>...</td>\n",
       "      <td>True</td>\n",
       "      <td>False</td>\n",
       "      <td>True</td>\n",
       "      <td>False</td>\n",
       "      <td>False</td>\n",
       "      <td>False</td>\n",
       "      <td>['Fish', 'sauce', 'wings..', 'out', 'of', 'thi...</td>\n",
       "      <td>['fish', 'sauce', 'wing', '..', 'world', 'esti...</td>\n",
       "      <td>fish sauce wing .. world estimate amount spicy...</td>\n",
       "      <td>0.277778</td>\n",
       "    </tr>\n",
       "  </tbody>\n",
       "</table>\n",
       "<p>214874 rows × 91 columns</p>\n",
       "</div>"
      ],
      "text/plain": [
       "                     review_id                 user_id  \\\n",
       "0       Gi5LSRmTXoL9Bp4jNGPjLw  hn0ZbitvmlHnF--KJGJ6_A   \n",
       "1       egHMQBhFeaLhVyC6w3r0vQ  HvpNr0ohHCaVLp014CQrdw   \n",
       "2       GDgXjXSZCA1iNQWD7OHXfg  1RCRKuHgP3FskGUVnmFdxg   \n",
       "3       WxrK52MRJy6Cxk_vOJeD1Q  9d22a-5XXvsZ55p04gI5jA   \n",
       "4       GgWFjRHhelaiUgR2-H6N4g  pRPT3vqhqpU7kHgmKJamvw   \n",
       "...                        ...                     ...   \n",
       "214869  Mc6gBUoqj8VNyGHBOTIPCw  _XXa8CyI4uKOdu6RRbWE4g   \n",
       "214870  jDMk2EEGG-fkuA2rnCr0zg  KTgetFhipsOG1vWfVuSaiA   \n",
       "214871  MbmrN5q_JKkokjOdqLXxhQ  SF2Hu55kX9QJDvZETuZ9eg   \n",
       "214872  2n2PbNLYlQSRs88VrZtrGg  _BwuIa1-qjIL1PdYB_awyA   \n",
       "214873  sjSj7jSR7qncgIpO-vtitA  _N50LtqyuBHCHvFpaPv7tw   \n",
       "\n",
       "                   business_id  stars_x  useful_x  funny_x  cool_x  \\\n",
       "0       TA1KUSCu8GkWP9w0rmElxw        4         0        0       0   \n",
       "1       gGvNgShksetPoimyKV8I9Q        4         0        0       0   \n",
       "2       mOnesB4IF9j6-ZmHoOHOig        4         0        0       0   \n",
       "3       _gOz7-aHMyGUHOtjDrEv2w        2         4        2       0   \n",
       "4       -_GnwXmzC3DXsHR9nyaC2g        3         0        0       0   \n",
       "...                        ...      ...       ...      ...     ...   \n",
       "214869  cs6HfZNykLVitm09jWFqWg        4         5        3       4   \n",
       "214870  cs6HfZNykLVitm09jWFqWg        5         0        0       0   \n",
       "214871  uXOVFQraz1va1TrtgiqYTg        4         0        0       0   \n",
       "214872  Gzo1G_mMc2kpduvK2yQFYg        2         0        0       0   \n",
       "214873  zioLxtBc9THNS2TOn9xW1w        4         0        0       0   \n",
       "\n",
       "                                                     text  \\\n",
       "0       I have been here twice and have had really goo...   \n",
       "1       Quickly stopped in for a UFC fight. I sat down...   \n",
       "2       I think their rice dishes are way better than ...   \n",
       "3       When we first arrived at the Coco Key, we were...   \n",
       "4       3.5 stars! I got the avocado margarita and it ...   \n",
       "...                                                   ...   \n",
       "214869  I went here for brunch with 2 friends on a Sun...   \n",
       "214870  Our group shared dinner entrees and side dishe...   \n",
       "214871  This was a fun place to dine. It is a one chef...   \n",
       "214872  The food was ok. I order the pork bites and it...   \n",
       "214873  Fish sauce wings.. out of this world. I did ov...   \n",
       "\n",
       "                       date  attributes.RestaurantsDelivery  ...  \\\n",
       "0       2011-10-27 14:32:57                            True  ...   \n",
       "1       2015-10-04 05:37:01                            True  ...   \n",
       "2       2017-05-26 03:05:46                            True  ...   \n",
       "3       2017-09-20 15:38:27                           False  ...   \n",
       "4       2012-11-06 07:09:57                            True  ...   \n",
       "...                     ...                             ...  ...   \n",
       "214869  2018-04-17 00:28:02                           False  ...   \n",
       "214870  2017-10-13 21:02:12                           False  ...   \n",
       "214871  2016-10-31 20:47:16                           False  ...   \n",
       "214872  2015-07-21 13:21:59                           False  ...   \n",
       "214873  2014-01-04 03:19:41                            True  ...   \n",
       "\n",
       "        Ambience_casual  BP_garage BP_street BP_validated  BP_lot  BP_valet  \\\n",
       "0                 False      False     False        False    True     False   \n",
       "1                  True      False     False        False   False      True   \n",
       "2                  True      False     False        False    True     False   \n",
       "3                 False      False     False        False    True     False   \n",
       "4                  True      False      True        False    True     False   \n",
       "...                 ...        ...       ...          ...     ...       ...   \n",
       "214869             True      False      True        False   False      True   \n",
       "214870             True      False      True        False   False      True   \n",
       "214871             True      False      True        False   False     False   \n",
       "214872             True      False     False        False    True     False   \n",
       "214873             True      False      True        False   False     False   \n",
       "\n",
       "                                                 text_upr  \\\n",
       "0       ['I', 'have', 'been', 'here', 'twice', 'and', ...   \n",
       "1       ['Quickly', 'stopped', 'in', 'for', 'a', 'UFC'...   \n",
       "2       ['I', 'think', 'their', 'rice', 'dishes', 'are...   \n",
       "3       ['When', 'we', 'first', 'arrived', 'at', 'the'...   \n",
       "4       ['3.5', 'stars!', 'I', 'got', 'the', 'avocado'...   \n",
       "...                                                   ...   \n",
       "214869  ['I', 'went', 'here', 'for', 'brunch', 'with',...   \n",
       "214870  ['Our', 'group', 'shared', 'dinner', 'entrees'...   \n",
       "214871  ['This', 'was', 'a', 'fun', 'place', 'to', 'di...   \n",
       "214872  ['The', 'food', 'was', 'ok.', 'I', 'order', 't...   \n",
       "214873  ['Fish', 'sauce', 'wings..', 'out', 'of', 'thi...   \n",
       "\n",
       "                                               lemmatized  \\\n",
       "0       ['twice', 'really', 'good', 'food', 'service',...   \n",
       "1       ['quickly', 'stop', 'ufc', 'fight', 'sit', 'ba...   \n",
       "2       ['think', 'rice', 'dish', 'way', 'well', 'pho'...   \n",
       "3       ['first', 'arrive', 'coco', 'key', 'greet', 'n...   \n",
       "4       ['3.5', 'star', 'get', 'avocado', 'margarita',...   \n",
       "...                                                   ...   \n",
       "214869  ['go', 'brunch', '2', 'friend', 'sunday', 'awh...   \n",
       "214870  ['group', 'share', 'dinner', 'entree', 'side',...   \n",
       "214871  ['fun', 'place', 'dine', 'one', 'chef', 'kitch...   \n",
       "214872  ['food', 'ok', 'order', 'pork', 'bite', 'good'...   \n",
       "214873  ['fish', 'sauce', 'wing', '..', 'world', 'esti...   \n",
       "\n",
       "                                                lemma_str  sentiment  \n",
       "0       twice really good food service time get burger...   0.182259  \n",
       "1       quickly stop ufc fight sit bar boyfriend park ...   0.288889  \n",
       "2       think rice dish way well pho 's also really li...   0.350000  \n",
       "3       first arrive coco key greet number staff membe...  -0.071723  \n",
       "4       3.5 star get avocado margarita delicious custo...   0.400000  \n",
       "...                                                   ...        ...  \n",
       "214869  go brunch 2 friend sunday awhile back buffet s...   0.500000  \n",
       "214870  group share dinner entree side dish best food ...   0.125000  \n",
       "214871  fun place dine one chef kitchen wait 1 hr get ...   0.362500  \n",
       "214872  food ok order pork bite good wife order combin...  -0.051852  \n",
       "214873  fish sauce wing .. world estimate amount spicy...   0.277778  \n",
       "\n",
       "[214874 rows x 91 columns]"
      ]
     },
     "metadata": {},
     "output_type": "display_data"
    }
   ],
   "source": [
    "dsent = dsent.iloc[: , 2:]\n",
    "display(dsent)"
   ]
  },
  {
   "cell_type": "code",
   "execution_count": 51,
   "metadata": {},
   "outputs": [
    {
     "data": {
      "text/plain": [
       "0.5406402811740255"
      ]
     },
     "execution_count": 51,
     "metadata": {},
     "output_type": "execute_result"
    }
   ],
   "source": [
    "#korelace mezi počtem hvězdiček a sentimentem\n",
    "np.corrcoef(dsent['stars_x'], dsent['sentiment'])[0,1]"
   ]
  },
  {
   "cell_type": "code",
   "execution_count": 49,
   "metadata": {},
   "outputs": [
    {
     "data": {
      "text/plain": [
       "-0.09711314195423232"
      ]
     },
     "execution_count": 49,
     "metadata": {},
     "output_type": "execute_result"
    }
   ],
   "source": [
    "#korelace mezi počtem bodů v \"useful\" a sentimentem\n",
    "np.corrcoef(dsent['useful_x'], dsent['sentiment'])[0,1]"
   ]
  },
  {
   "cell_type": "code",
   "execution_count": 50,
   "metadata": {},
   "outputs": [
    {
     "data": {
      "text/plain": [
       "-0.06566284337148244"
      ]
     },
     "execution_count": 50,
     "metadata": {},
     "output_type": "execute_result"
    }
   ],
   "source": [
    "#korelace mezi počtem bodů v \"funny\" a sentimentem\n",
    "np.corrcoef(dsent['funny_x'], dsent['sentiment'])[0,1]"
   ]
  },
  {
   "cell_type": "code",
   "execution_count": 48,
   "metadata": {},
   "outputs": [
    {
     "data": {
      "text/plain": [
       "-0.02209042577683767"
      ]
     },
     "execution_count": 48,
     "metadata": {},
     "output_type": "execute_result"
    }
   ],
   "source": [
    "#korelace mezi počtem bodů v \"cool\" a sentimentem\n",
    "np.corrcoef(dsent['cool_x'], dsent['sentiment'])[0,1]"
   ]
  },
  {
   "cell_type": "code",
   "execution_count": 12,
   "metadata": {},
   "outputs": [
    {
     "data": {
      "text/plain": [
       "0.04146883681268564"
      ]
     },
     "execution_count": 12,
     "metadata": {},
     "output_type": "execute_result"
    }
   ],
   "source": [
    "#Korelace mezi hvězdama a 'cool' - skoro žádná .. \n",
    "np.corrcoef(dsent['cool_x'], dsent['stars_x'])[0,1]"
   ]
  },
  {
   "cell_type": "code",
   "execution_count": null,
   "metadata": {},
   "outputs": [],
   "source": [
    "#target_col = 'stars_x'\n",
    "#které numerické proměnné přispívají k vyššímu sentimentu či hvězdičkám \n",
    "#rozhodovací stromy, když člověk odpověděl tak a tak, tak kdy dospěl k takové hvězdičce"
   ]
  },
  {
   "cell_type": "code",
   "execution_count": 7,
   "metadata": {},
   "outputs": [
    {
     "name": "stdout",
     "output_type": "stream",
     "text": [
      "['Atlanta' 'Austin' 'Orlando' 'Portland' 'Boston']\n"
     ]
    }
   ],
   "source": [
    "print(dsent['city'].unique())"
   ]
  },
  {
   "cell_type": "code",
   "execution_count": 17,
   "metadata": {},
   "outputs": [
    {
     "data": {
      "text/plain": [
       "city\n",
       "Atlanta     0.261732\n",
       "Austin      0.272134\n",
       "Boston      0.245616\n",
       "Orlando     0.256321\n",
       "Portland    0.279615\n",
       "Name: sentiment, dtype: float64"
      ]
     },
     "execution_count": 17,
     "metadata": {},
     "output_type": "execute_result"
    }
   ],
   "source": [
    "#Jednotlivé průměry sentimentu měst\n",
    "means = dsent.groupby('city')['sentiment'].mean()\n",
    "means"
   ]
  },
  {
   "cell_type": "code",
   "execution_count": 15,
   "metadata": {},
   "outputs": [
    {
     "data": {
      "text/plain": [
       "0.26414373570126587"
      ]
     },
     "execution_count": 15,
     "metadata": {},
     "output_type": "execute_result"
    }
   ],
   "source": [
    "#Celkový průměr sentimentu měst\n",
    "mean(dsent['sentiment'])"
   ]
  },
  {
   "cell_type": "code",
   "execution_count": 16,
   "metadata": {},
   "outputs": [
    {
     "data": {
      "text/plain": [
       "city\n",
       "Atlanta     3.771289\n",
       "Austin      4.026691\n",
       "Boston      3.678497\n",
       "Orlando     3.735377\n",
       "Portland    4.000409\n",
       "Name: stars_x, dtype: float64"
      ]
     },
     "execution_count": 16,
     "metadata": {},
     "output_type": "execute_result"
    }
   ],
   "source": [
    "#Jednotlivé průměry počtu hvězd měst - pořadí se celkem shoduje se sentimentem \n",
    "meanh = dsent.groupby('city')['stars_x'].mean()\n",
    "meanh"
   ]
  },
  {
   "cell_type": "code",
   "execution_count": null,
   "metadata": {},
   "outputs": [],
   "source": []
  }
 ],
 "metadata": {
  "kernelspec": {
   "display_name": "Python 3 (ipykernel)",
   "language": "python",
   "name": "python3"
  },
  "language_info": {
   "codemirror_mode": {
    "name": "ipython",
    "version": 3
   },
   "file_extension": ".py",
   "mimetype": "text/x-python",
   "name": "python",
   "nbconvert_exporter": "python",
   "pygments_lexer": "ipython3",
   "version": "3.7.9"
  }
 },
 "nbformat": 4,
 "nbformat_minor": 4
}
