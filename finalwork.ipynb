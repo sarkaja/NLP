{
 "cells": [
  {
   "cell_type": "code",
   "execution_count": 8,
   "metadata": {},
   "outputs": [
    {
     "name": "stdout",
     "output_type": "stream",
     "text": [
      "Collecting Covariance-Descriptor\n",
      "  Downloading Covariance_Descriptor-1.0.4-py3-none-any.whl (3.7 kB)\n",
      "Requirement already satisfied: scipy>=1.4.1 in c:\\users\\dell\\anaconda\\lib\\site-packages (from Covariance-Descriptor) (1.5.2)\n",
      "Requirement already satisfied: numpy>=1.16.2 in c:\\users\\dell\\anaconda\\lib\\site-packages (from Covariance-Descriptor) (1.20.1)\n",
      "Collecting opencv-python>=3.4.1\n",
      "  Downloading opencv_python-4.5.4.60-cp37-cp37m-win_amd64.whl (35.1 MB)\n",
      "Installing collected packages: opencv-python, Covariance-Descriptor\n",
      "Successfully installed Covariance-Descriptor-1.0.4 opencv-python-4.5.4.60\n",
      "Note: you may need to restart the kernel to use updated packages.\n"
     ]
    },
    {
     "name": "stderr",
     "output_type": "stream",
     "text": [
      "WARNING: Ignoring invalid distribution -umpy (c:\\users\\dell\\anaconda\\lib\\site-packages)\n",
      "WARNING: Ignoring invalid distribution -umpy (c:\\users\\dell\\anaconda\\lib\\site-packages)\n",
      "WARNING: Ignoring invalid distribution -umpy (c:\\users\\dell\\anaconda\\lib\\site-packages)\n",
      "WARNING: Ignoring invalid distribution -umpy (c:\\users\\dell\\anaconda\\lib\\site-packages)\n",
      "WARNING: Ignoring invalid distribution -umpy (c:\\users\\dell\\anaconda\\lib\\site-packages)\n",
      "WARNING: Ignoring invalid distribution -umpy (c:\\users\\dell\\anaconda\\lib\\site-packages)\n",
      "WARNING: Ignoring invalid distribution -umpy (c:\\users\\dell\\anaconda\\lib\\site-packages)\n"
     ]
    }
   ],
   "source": [
    "pip install Covariance-Descriptor"
   ]
  },
  {
   "cell_type": "code",
   "execution_count": 3,
   "metadata": {},
   "outputs": [
    {
     "name": "stdout",
     "output_type": "stream",
     "text": [
      "Note: you may need to restart the kernel to use updated packages.\n"
     ]
    },
    {
     "name": "stderr",
     "output_type": "stream",
     "text": [
      "WARNING: Ignoring invalid distribution -umpy (c:\\users\\dell\\anaconda\\lib\\site-packages)\n",
      "WARNING: Ignoring invalid distribution -umpy (c:\\users\\dell\\anaconda\\lib\\site-packages)\n",
      "ERROR: Could not find a version that satisfies the requirement pycharm (from versions: none)\n",
      "ERROR: No matching distribution found for pycharm\n",
      "WARNING: Ignoring invalid distribution -umpy (c:\\users\\dell\\anaconda\\lib\\site-packages)\n",
      "WARNING: Ignoring invalid distribution -umpy (c:\\users\\dell\\anaconda\\lib\\site-packages)\n"
     ]
    }
   ],
   "source": [
    "pip install pycharm"
   ]
  },
  {
   "cell_type": "code",
   "execution_count": 2,
   "metadata": {},
   "outputs": [],
   "source": [
    "import pandas as pd \n",
    "import numpy as np\n",
    "import matplotlib.pyplot as plt\n",
    "import seaborn as sns\n",
    "from statistics import mean"
   ]
  },
  {
   "cell_type": "code",
   "execution_count": 4,
   "metadata": {},
   "outputs": [],
   "source": [
    "dsent = pd.read_csv('dsent.csv',\n",
    "                   index_col = False,\n",
    "                   low_memory = False)"
   ]
  },
  {
   "cell_type": "code",
   "execution_count": 5,
   "metadata": {},
   "outputs": [
    {
     "data": {
      "text/html": [
       "<div>\n",
       "<style scoped>\n",
       "    .dataframe tbody tr th:only-of-type {\n",
       "        vertical-align: middle;\n",
       "    }\n",
       "\n",
       "    .dataframe tbody tr th {\n",
       "        vertical-align: top;\n",
       "    }\n",
       "\n",
       "    .dataframe thead th {\n",
       "        text-align: right;\n",
       "    }\n",
       "</style>\n",
       "<table border=\"1\" class=\"dataframe\">\n",
       "  <thead>\n",
       "    <tr style=\"text-align: right;\">\n",
       "      <th></th>\n",
       "      <th>review_id</th>\n",
       "      <th>user_id</th>\n",
       "      <th>business_id</th>\n",
       "      <th>stars_x</th>\n",
       "      <th>useful_x</th>\n",
       "      <th>funny_x</th>\n",
       "      <th>cool_x</th>\n",
       "      <th>text</th>\n",
       "      <th>date</th>\n",
       "      <th>attributes.RestaurantsDelivery</th>\n",
       "      <th>...</th>\n",
       "      <th>Ambience_casual</th>\n",
       "      <th>BP_garage</th>\n",
       "      <th>BP_street</th>\n",
       "      <th>BP_validated</th>\n",
       "      <th>BP_lot</th>\n",
       "      <th>BP_valet</th>\n",
       "      <th>text_upr</th>\n",
       "      <th>lemmatized</th>\n",
       "      <th>lemma_str</th>\n",
       "      <th>sentiment</th>\n",
       "    </tr>\n",
       "  </thead>\n",
       "  <tbody>\n",
       "    <tr>\n",
       "      <th>0</th>\n",
       "      <td>Gi5LSRmTXoL9Bp4jNGPjLw</td>\n",
       "      <td>hn0ZbitvmlHnF--KJGJ6_A</td>\n",
       "      <td>TA1KUSCu8GkWP9w0rmElxw</td>\n",
       "      <td>4</td>\n",
       "      <td>0</td>\n",
       "      <td>0</td>\n",
       "      <td>0</td>\n",
       "      <td>I have been here twice and have had really goo...</td>\n",
       "      <td>2011-10-27 14:32:57</td>\n",
       "      <td>True</td>\n",
       "      <td>...</td>\n",
       "      <td>False</td>\n",
       "      <td>False</td>\n",
       "      <td>False</td>\n",
       "      <td>False</td>\n",
       "      <td>True</td>\n",
       "      <td>False</td>\n",
       "      <td>['I', 'have', 'been', 'here', 'twice', 'and', ...</td>\n",
       "      <td>['twice', 'really', 'good', 'food', 'service',...</td>\n",
       "      <td>twice really good food service time get burger...</td>\n",
       "      <td>0.182259</td>\n",
       "    </tr>\n",
       "    <tr>\n",
       "      <th>1</th>\n",
       "      <td>egHMQBhFeaLhVyC6w3r0vQ</td>\n",
       "      <td>HvpNr0ohHCaVLp014CQrdw</td>\n",
       "      <td>gGvNgShksetPoimyKV8I9Q</td>\n",
       "      <td>4</td>\n",
       "      <td>0</td>\n",
       "      <td>0</td>\n",
       "      <td>0</td>\n",
       "      <td>Quickly stopped in for a UFC fight. I sat down...</td>\n",
       "      <td>2015-10-04 05:37:01</td>\n",
       "      <td>True</td>\n",
       "      <td>...</td>\n",
       "      <td>True</td>\n",
       "      <td>False</td>\n",
       "      <td>False</td>\n",
       "      <td>False</td>\n",
       "      <td>False</td>\n",
       "      <td>True</td>\n",
       "      <td>['Quickly', 'stopped', 'in', 'for', 'a', 'UFC'...</td>\n",
       "      <td>['quickly', 'stop', 'ufc', 'fight', 'sit', 'ba...</td>\n",
       "      <td>quickly stop ufc fight sit bar boyfriend park ...</td>\n",
       "      <td>0.288889</td>\n",
       "    </tr>\n",
       "    <tr>\n",
       "      <th>2</th>\n",
       "      <td>GDgXjXSZCA1iNQWD7OHXfg</td>\n",
       "      <td>1RCRKuHgP3FskGUVnmFdxg</td>\n",
       "      <td>mOnesB4IF9j6-ZmHoOHOig</td>\n",
       "      <td>4</td>\n",
       "      <td>0</td>\n",
       "      <td>0</td>\n",
       "      <td>0</td>\n",
       "      <td>I think their rice dishes are way better than ...</td>\n",
       "      <td>2017-05-26 03:05:46</td>\n",
       "      <td>True</td>\n",
       "      <td>...</td>\n",
       "      <td>True</td>\n",
       "      <td>False</td>\n",
       "      <td>False</td>\n",
       "      <td>False</td>\n",
       "      <td>True</td>\n",
       "      <td>False</td>\n",
       "      <td>['I', 'think', 'their', 'rice', 'dishes', 'are...</td>\n",
       "      <td>['think', 'rice', 'dish', 'way', 'well', 'pho'...</td>\n",
       "      <td>think rice dish way well pho 's also really li...</td>\n",
       "      <td>0.350000</td>\n",
       "    </tr>\n",
       "    <tr>\n",
       "      <th>3</th>\n",
       "      <td>WxrK52MRJy6Cxk_vOJeD1Q</td>\n",
       "      <td>9d22a-5XXvsZ55p04gI5jA</td>\n",
       "      <td>_gOz7-aHMyGUHOtjDrEv2w</td>\n",
       "      <td>2</td>\n",
       "      <td>4</td>\n",
       "      <td>2</td>\n",
       "      <td>0</td>\n",
       "      <td>When we first arrived at the Coco Key, we were...</td>\n",
       "      <td>2017-09-20 15:38:27</td>\n",
       "      <td>False</td>\n",
       "      <td>...</td>\n",
       "      <td>False</td>\n",
       "      <td>False</td>\n",
       "      <td>False</td>\n",
       "      <td>False</td>\n",
       "      <td>True</td>\n",
       "      <td>False</td>\n",
       "      <td>['When', 'we', 'first', 'arrived', 'at', 'the'...</td>\n",
       "      <td>['first', 'arrive', 'coco', 'key', 'greet', 'n...</td>\n",
       "      <td>first arrive coco key greet number staff membe...</td>\n",
       "      <td>-0.071723</td>\n",
       "    </tr>\n",
       "    <tr>\n",
       "      <th>4</th>\n",
       "      <td>GgWFjRHhelaiUgR2-H6N4g</td>\n",
       "      <td>pRPT3vqhqpU7kHgmKJamvw</td>\n",
       "      <td>-_GnwXmzC3DXsHR9nyaC2g</td>\n",
       "      <td>3</td>\n",
       "      <td>0</td>\n",
       "      <td>0</td>\n",
       "      <td>0</td>\n",
       "      <td>3.5 stars! I got the avocado margarita and it ...</td>\n",
       "      <td>2012-11-06 07:09:57</td>\n",
       "      <td>True</td>\n",
       "      <td>...</td>\n",
       "      <td>True</td>\n",
       "      <td>False</td>\n",
       "      <td>True</td>\n",
       "      <td>False</td>\n",
       "      <td>True</td>\n",
       "      <td>False</td>\n",
       "      <td>['3.5', 'stars!', 'I', 'got', 'the', 'avocado'...</td>\n",
       "      <td>['3.5', 'star', 'get', 'avocado', 'margarita',...</td>\n",
       "      <td>3.5 star get avocado margarita delicious custo...</td>\n",
       "      <td>0.400000</td>\n",
       "    </tr>\n",
       "    <tr>\n",
       "      <th>...</th>\n",
       "      <td>...</td>\n",
       "      <td>...</td>\n",
       "      <td>...</td>\n",
       "      <td>...</td>\n",
       "      <td>...</td>\n",
       "      <td>...</td>\n",
       "      <td>...</td>\n",
       "      <td>...</td>\n",
       "      <td>...</td>\n",
       "      <td>...</td>\n",
       "      <td>...</td>\n",
       "      <td>...</td>\n",
       "      <td>...</td>\n",
       "      <td>...</td>\n",
       "      <td>...</td>\n",
       "      <td>...</td>\n",
       "      <td>...</td>\n",
       "      <td>...</td>\n",
       "      <td>...</td>\n",
       "      <td>...</td>\n",
       "      <td>...</td>\n",
       "    </tr>\n",
       "    <tr>\n",
       "      <th>214869</th>\n",
       "      <td>Mc6gBUoqj8VNyGHBOTIPCw</td>\n",
       "      <td>_XXa8CyI4uKOdu6RRbWE4g</td>\n",
       "      <td>cs6HfZNykLVitm09jWFqWg</td>\n",
       "      <td>4</td>\n",
       "      <td>5</td>\n",
       "      <td>3</td>\n",
       "      <td>4</td>\n",
       "      <td>I went here for brunch with 2 friends on a Sun...</td>\n",
       "      <td>2018-04-17 00:28:02</td>\n",
       "      <td>False</td>\n",
       "      <td>...</td>\n",
       "      <td>True</td>\n",
       "      <td>False</td>\n",
       "      <td>True</td>\n",
       "      <td>False</td>\n",
       "      <td>False</td>\n",
       "      <td>True</td>\n",
       "      <td>['I', 'went', 'here', 'for', 'brunch', 'with',...</td>\n",
       "      <td>['go', 'brunch', '2', 'friend', 'sunday', 'awh...</td>\n",
       "      <td>go brunch 2 friend sunday awhile back buffet s...</td>\n",
       "      <td>0.500000</td>\n",
       "    </tr>\n",
       "    <tr>\n",
       "      <th>214870</th>\n",
       "      <td>jDMk2EEGG-fkuA2rnCr0zg</td>\n",
       "      <td>KTgetFhipsOG1vWfVuSaiA</td>\n",
       "      <td>cs6HfZNykLVitm09jWFqWg</td>\n",
       "      <td>5</td>\n",
       "      <td>0</td>\n",
       "      <td>0</td>\n",
       "      <td>0</td>\n",
       "      <td>Our group shared dinner entrees and side dishe...</td>\n",
       "      <td>2017-10-13 21:02:12</td>\n",
       "      <td>False</td>\n",
       "      <td>...</td>\n",
       "      <td>True</td>\n",
       "      <td>False</td>\n",
       "      <td>True</td>\n",
       "      <td>False</td>\n",
       "      <td>False</td>\n",
       "      <td>True</td>\n",
       "      <td>['Our', 'group', 'shared', 'dinner', 'entrees'...</td>\n",
       "      <td>['group', 'share', 'dinner', 'entree', 'side',...</td>\n",
       "      <td>group share dinner entree side dish best food ...</td>\n",
       "      <td>0.125000</td>\n",
       "    </tr>\n",
       "    <tr>\n",
       "      <th>214871</th>\n",
       "      <td>MbmrN5q_JKkokjOdqLXxhQ</td>\n",
       "      <td>SF2Hu55kX9QJDvZETuZ9eg</td>\n",
       "      <td>uXOVFQraz1va1TrtgiqYTg</td>\n",
       "      <td>4</td>\n",
       "      <td>0</td>\n",
       "      <td>0</td>\n",
       "      <td>0</td>\n",
       "      <td>This was a fun place to dine. It is a one chef...</td>\n",
       "      <td>2016-10-31 20:47:16</td>\n",
       "      <td>False</td>\n",
       "      <td>...</td>\n",
       "      <td>True</td>\n",
       "      <td>False</td>\n",
       "      <td>True</td>\n",
       "      <td>False</td>\n",
       "      <td>False</td>\n",
       "      <td>False</td>\n",
       "      <td>['This', 'was', 'a', 'fun', 'place', 'to', 'di...</td>\n",
       "      <td>['fun', 'place', 'dine', 'one', 'chef', 'kitch...</td>\n",
       "      <td>fun place dine one chef kitchen wait 1 hr get ...</td>\n",
       "      <td>0.362500</td>\n",
       "    </tr>\n",
       "    <tr>\n",
       "      <th>214872</th>\n",
       "      <td>2n2PbNLYlQSRs88VrZtrGg</td>\n",
       "      <td>_BwuIa1-qjIL1PdYB_awyA</td>\n",
       "      <td>Gzo1G_mMc2kpduvK2yQFYg</td>\n",
       "      <td>2</td>\n",
       "      <td>0</td>\n",
       "      <td>0</td>\n",
       "      <td>0</td>\n",
       "      <td>The food was ok. I order the pork bites and it...</td>\n",
       "      <td>2015-07-21 13:21:59</td>\n",
       "      <td>False</td>\n",
       "      <td>...</td>\n",
       "      <td>True</td>\n",
       "      <td>False</td>\n",
       "      <td>False</td>\n",
       "      <td>False</td>\n",
       "      <td>True</td>\n",
       "      <td>False</td>\n",
       "      <td>['The', 'food', 'was', 'ok.', 'I', 'order', 't...</td>\n",
       "      <td>['food', 'ok', 'order', 'pork', 'bite', 'good'...</td>\n",
       "      <td>food ok order pork bite good wife order combin...</td>\n",
       "      <td>-0.051852</td>\n",
       "    </tr>\n",
       "    <tr>\n",
       "      <th>214873</th>\n",
       "      <td>sjSj7jSR7qncgIpO-vtitA</td>\n",
       "      <td>_N50LtqyuBHCHvFpaPv7tw</td>\n",
       "      <td>zioLxtBc9THNS2TOn9xW1w</td>\n",
       "      <td>4</td>\n",
       "      <td>0</td>\n",
       "      <td>0</td>\n",
       "      <td>0</td>\n",
       "      <td>Fish sauce wings.. out of this world. I did ov...</td>\n",
       "      <td>2014-01-04 03:19:41</td>\n",
       "      <td>True</td>\n",
       "      <td>...</td>\n",
       "      <td>True</td>\n",
       "      <td>False</td>\n",
       "      <td>True</td>\n",
       "      <td>False</td>\n",
       "      <td>False</td>\n",
       "      <td>False</td>\n",
       "      <td>['Fish', 'sauce', 'wings..', 'out', 'of', 'thi...</td>\n",
       "      <td>['fish', 'sauce', 'wing', '..', 'world', 'esti...</td>\n",
       "      <td>fish sauce wing .. world estimate amount spicy...</td>\n",
       "      <td>0.277778</td>\n",
       "    </tr>\n",
       "  </tbody>\n",
       "</table>\n",
       "<p>214874 rows × 91 columns</p>\n",
       "</div>"
      ],
      "text/plain": [
       "                     review_id                 user_id  \\\n",
       "0       Gi5LSRmTXoL9Bp4jNGPjLw  hn0ZbitvmlHnF--KJGJ6_A   \n",
       "1       egHMQBhFeaLhVyC6w3r0vQ  HvpNr0ohHCaVLp014CQrdw   \n",
       "2       GDgXjXSZCA1iNQWD7OHXfg  1RCRKuHgP3FskGUVnmFdxg   \n",
       "3       WxrK52MRJy6Cxk_vOJeD1Q  9d22a-5XXvsZ55p04gI5jA   \n",
       "4       GgWFjRHhelaiUgR2-H6N4g  pRPT3vqhqpU7kHgmKJamvw   \n",
       "...                        ...                     ...   \n",
       "214869  Mc6gBUoqj8VNyGHBOTIPCw  _XXa8CyI4uKOdu6RRbWE4g   \n",
       "214870  jDMk2EEGG-fkuA2rnCr0zg  KTgetFhipsOG1vWfVuSaiA   \n",
       "214871  MbmrN5q_JKkokjOdqLXxhQ  SF2Hu55kX9QJDvZETuZ9eg   \n",
       "214872  2n2PbNLYlQSRs88VrZtrGg  _BwuIa1-qjIL1PdYB_awyA   \n",
       "214873  sjSj7jSR7qncgIpO-vtitA  _N50LtqyuBHCHvFpaPv7tw   \n",
       "\n",
       "                   business_id  stars_x  useful_x  funny_x  cool_x  \\\n",
       "0       TA1KUSCu8GkWP9w0rmElxw        4         0        0       0   \n",
       "1       gGvNgShksetPoimyKV8I9Q        4         0        0       0   \n",
       "2       mOnesB4IF9j6-ZmHoOHOig        4         0        0       0   \n",
       "3       _gOz7-aHMyGUHOtjDrEv2w        2         4        2       0   \n",
       "4       -_GnwXmzC3DXsHR9nyaC2g        3         0        0       0   \n",
       "...                        ...      ...       ...      ...     ...   \n",
       "214869  cs6HfZNykLVitm09jWFqWg        4         5        3       4   \n",
       "214870  cs6HfZNykLVitm09jWFqWg        5         0        0       0   \n",
       "214871  uXOVFQraz1va1TrtgiqYTg        4         0        0       0   \n",
       "214872  Gzo1G_mMc2kpduvK2yQFYg        2         0        0       0   \n",
       "214873  zioLxtBc9THNS2TOn9xW1w        4         0        0       0   \n",
       "\n",
       "                                                     text  \\\n",
       "0       I have been here twice and have had really goo...   \n",
       "1       Quickly stopped in for a UFC fight. I sat down...   \n",
       "2       I think their rice dishes are way better than ...   \n",
       "3       When we first arrived at the Coco Key, we were...   \n",
       "4       3.5 stars! I got the avocado margarita and it ...   \n",
       "...                                                   ...   \n",
       "214869  I went here for brunch with 2 friends on a Sun...   \n",
       "214870  Our group shared dinner entrees and side dishe...   \n",
       "214871  This was a fun place to dine. It is a one chef...   \n",
       "214872  The food was ok. I order the pork bites and it...   \n",
       "214873  Fish sauce wings.. out of this world. I did ov...   \n",
       "\n",
       "                       date  attributes.RestaurantsDelivery  ...  \\\n",
       "0       2011-10-27 14:32:57                            True  ...   \n",
       "1       2015-10-04 05:37:01                            True  ...   \n",
       "2       2017-05-26 03:05:46                            True  ...   \n",
       "3       2017-09-20 15:38:27                           False  ...   \n",
       "4       2012-11-06 07:09:57                            True  ...   \n",
       "...                     ...                             ...  ...   \n",
       "214869  2018-04-17 00:28:02                           False  ...   \n",
       "214870  2017-10-13 21:02:12                           False  ...   \n",
       "214871  2016-10-31 20:47:16                           False  ...   \n",
       "214872  2015-07-21 13:21:59                           False  ...   \n",
       "214873  2014-01-04 03:19:41                            True  ...   \n",
       "\n",
       "        Ambience_casual  BP_garage BP_street BP_validated  BP_lot  BP_valet  \\\n",
       "0                 False      False     False        False    True     False   \n",
       "1                  True      False     False        False   False      True   \n",
       "2                  True      False     False        False    True     False   \n",
       "3                 False      False     False        False    True     False   \n",
       "4                  True      False      True        False    True     False   \n",
       "...                 ...        ...       ...          ...     ...       ...   \n",
       "214869             True      False      True        False   False      True   \n",
       "214870             True      False      True        False   False      True   \n",
       "214871             True      False      True        False   False     False   \n",
       "214872             True      False     False        False    True     False   \n",
       "214873             True      False      True        False   False     False   \n",
       "\n",
       "                                                 text_upr  \\\n",
       "0       ['I', 'have', 'been', 'here', 'twice', 'and', ...   \n",
       "1       ['Quickly', 'stopped', 'in', 'for', 'a', 'UFC'...   \n",
       "2       ['I', 'think', 'their', 'rice', 'dishes', 'are...   \n",
       "3       ['When', 'we', 'first', 'arrived', 'at', 'the'...   \n",
       "4       ['3.5', 'stars!', 'I', 'got', 'the', 'avocado'...   \n",
       "...                                                   ...   \n",
       "214869  ['I', 'went', 'here', 'for', 'brunch', 'with',...   \n",
       "214870  ['Our', 'group', 'shared', 'dinner', 'entrees'...   \n",
       "214871  ['This', 'was', 'a', 'fun', 'place', 'to', 'di...   \n",
       "214872  ['The', 'food', 'was', 'ok.', 'I', 'order', 't...   \n",
       "214873  ['Fish', 'sauce', 'wings..', 'out', 'of', 'thi...   \n",
       "\n",
       "                                               lemmatized  \\\n",
       "0       ['twice', 'really', 'good', 'food', 'service',...   \n",
       "1       ['quickly', 'stop', 'ufc', 'fight', 'sit', 'ba...   \n",
       "2       ['think', 'rice', 'dish', 'way', 'well', 'pho'...   \n",
       "3       ['first', 'arrive', 'coco', 'key', 'greet', 'n...   \n",
       "4       ['3.5', 'star', 'get', 'avocado', 'margarita',...   \n",
       "...                                                   ...   \n",
       "214869  ['go', 'brunch', '2', 'friend', 'sunday', 'awh...   \n",
       "214870  ['group', 'share', 'dinner', 'entree', 'side',...   \n",
       "214871  ['fun', 'place', 'dine', 'one', 'chef', 'kitch...   \n",
       "214872  ['food', 'ok', 'order', 'pork', 'bite', 'good'...   \n",
       "214873  ['fish', 'sauce', 'wing', '..', 'world', 'esti...   \n",
       "\n",
       "                                                lemma_str  sentiment  \n",
       "0       twice really good food service time get burger...   0.182259  \n",
       "1       quickly stop ufc fight sit bar boyfriend park ...   0.288889  \n",
       "2       think rice dish way well pho 's also really li...   0.350000  \n",
       "3       first arrive coco key greet number staff membe...  -0.071723  \n",
       "4       3.5 star get avocado margarita delicious custo...   0.400000  \n",
       "...                                                   ...        ...  \n",
       "214869  go brunch 2 friend sunday awhile back buffet s...   0.500000  \n",
       "214870  group share dinner entree side dish best food ...   0.125000  \n",
       "214871  fun place dine one chef kitchen wait 1 hr get ...   0.362500  \n",
       "214872  food ok order pork bite good wife order combin...  -0.051852  \n",
       "214873  fish sauce wing .. world estimate amount spicy...   0.277778  \n",
       "\n",
       "[214874 rows x 91 columns]"
      ]
     },
     "metadata": {},
     "output_type": "display_data"
    }
   ],
   "source": [
    "#Odstranění prvních dvou sloupců - Unnamed zbytečný\n",
    "dsent = dsent.iloc[: , 2:]\n",
    "display(dsent)"
   ]
  },
  {
   "cell_type": "code",
   "execution_count": 6,
   "metadata": {},
   "outputs": [
    {
     "data": {
      "text/plain": [
       "0.5406402811740255"
      ]
     },
     "execution_count": 6,
     "metadata": {},
     "output_type": "execute_result"
    }
   ],
   "source": [
    "#korelace mezi počtem hvězdiček a sentimentem\n",
    "np.corrcoef(dsent['stars_x'], dsent['sentiment'])[0,1]"
   ]
  },
  {
   "cell_type": "code",
   "execution_count": 7,
   "metadata": {},
   "outputs": [
    {
     "data": {
      "text/plain": [
       "-0.09711314195423232"
      ]
     },
     "execution_count": 7,
     "metadata": {},
     "output_type": "execute_result"
    }
   ],
   "source": [
    "#korelace mezi počtem bodů v \"useful\" a sentimentem\n",
    "np.corrcoef(dsent['useful_x'], dsent['sentiment'])[0,1]"
   ]
  },
  {
   "cell_type": "code",
   "execution_count": 8,
   "metadata": {},
   "outputs": [
    {
     "data": {
      "text/plain": [
       "-0.06566284337148244"
      ]
     },
     "execution_count": 8,
     "metadata": {},
     "output_type": "execute_result"
    }
   ],
   "source": [
    "#korelace mezi počtem bodů v \"funny\" a sentimentem\n",
    "np.corrcoef(dsent['funny_x'], dsent['sentiment'])[0,1]"
   ]
  },
  {
   "cell_type": "code",
   "execution_count": 9,
   "metadata": {},
   "outputs": [
    {
     "data": {
      "text/plain": [
       "-0.02209042577683767"
      ]
     },
     "execution_count": 9,
     "metadata": {},
     "output_type": "execute_result"
    }
   ],
   "source": [
    "#korelace mezi počtem bodů v \"cool\" a sentimentem\n",
    "np.corrcoef(dsent['cool_x'], dsent['sentiment'])[0,1]"
   ]
  },
  {
   "cell_type": "code",
   "execution_count": 10,
   "metadata": {},
   "outputs": [
    {
     "data": {
      "text/plain": [
       "0.04146883681268564"
      ]
     },
     "execution_count": 10,
     "metadata": {},
     "output_type": "execute_result"
    }
   ],
   "source": [
    "#Korelace mezi hvězdama a 'cool' - skoro žádná .. \n",
    "np.corrcoef(dsent['cool_x'], dsent['stars_x'])[0,1]"
   ]
  },
  {
   "cell_type": "code",
   "execution_count": 11,
   "metadata": {},
   "outputs": [],
   "source": [
    "#target_col = 'stars_x'\n",
    "#které numerické proměnné přispívají k vyššímu sentimentu či hvězdičkám \n",
    "#rozhodovací stromy, když člověk odpověděl tak a tak, tak kdy dospěl k takové hvězdičce"
   ]
  },
  {
   "cell_type": "code",
   "execution_count": 12,
   "metadata": {},
   "outputs": [
    {
     "name": "stdout",
     "output_type": "stream",
     "text": [
      "['Atlanta' 'Austin' 'Orlando' 'Portland' 'Boston']\n"
     ]
    }
   ],
   "source": [
    "print(dsent['city'].unique())"
   ]
  },
  {
   "cell_type": "code",
   "execution_count": 16,
   "metadata": {},
   "outputs": [
    {
     "data": {
      "text/plain": [
       "0.26414373570126587"
      ]
     },
     "execution_count": 16,
     "metadata": {},
     "output_type": "execute_result"
    }
   ],
   "source": [
    "#Celkový průměr sentimentu měst\n",
    "mean(dsent['sentiment'])"
   ]
  },
  {
   "cell_type": "code",
   "execution_count": 27,
   "metadata": {},
   "outputs": [],
   "source": [
    "#Nastavení hranic pro hodnocení positivity/neutrality/negativity recenze\n",
    "condition = [(dsent['sentiment'] <= -0.25),\n",
    "            (dsent['sentiment'] > -0.25) & (dsent['sentiment'] < 0.25),\n",
    "            (dsent['sentiment'] >= 0.25)]\n",
    "\n",
    "values = ['Negative', 'Neutral', 'Positive']\n",
    "\n",
    "dsent['Classification'] = np.select(condition, values)"
   ]
  },
  {
   "cell_type": "code",
   "execution_count": 83,
   "metadata": {},
   "outputs": [],
   "source": [
    "dsent['year'] = pd.DatetimeIndex(dsent['date']).year"
   ]
  },
  {
   "cell_type": "code",
   "execution_count": 84,
   "metadata": {},
   "outputs": [
    {
     "data": {
      "text/html": [
       "<div>\n",
       "<style scoped>\n",
       "    .dataframe tbody tr th:only-of-type {\n",
       "        vertical-align: middle;\n",
       "    }\n",
       "\n",
       "    .dataframe tbody tr th {\n",
       "        vertical-align: top;\n",
       "    }\n",
       "\n",
       "    .dataframe thead th {\n",
       "        text-align: right;\n",
       "    }\n",
       "</style>\n",
       "<table border=\"1\" class=\"dataframe\">\n",
       "  <thead>\n",
       "    <tr style=\"text-align: right;\">\n",
       "      <th></th>\n",
       "      <th>review_id</th>\n",
       "      <th>user_id</th>\n",
       "      <th>business_id</th>\n",
       "      <th>stars_x</th>\n",
       "      <th>useful_x</th>\n",
       "      <th>funny_x</th>\n",
       "      <th>cool_x</th>\n",
       "      <th>text</th>\n",
       "      <th>date</th>\n",
       "      <th>attributes.RestaurantsDelivery</th>\n",
       "      <th>...</th>\n",
       "      <th>BP_street</th>\n",
       "      <th>BP_validated</th>\n",
       "      <th>BP_lot</th>\n",
       "      <th>BP_valet</th>\n",
       "      <th>text_upr</th>\n",
       "      <th>lemmatized</th>\n",
       "      <th>lemma_str</th>\n",
       "      <th>sentiment</th>\n",
       "      <th>Classification</th>\n",
       "      <th>year</th>\n",
       "    </tr>\n",
       "  </thead>\n",
       "  <tbody>\n",
       "    <tr>\n",
       "      <th>0</th>\n",
       "      <td>Gi5LSRmTXoL9Bp4jNGPjLw</td>\n",
       "      <td>hn0ZbitvmlHnF--KJGJ6_A</td>\n",
       "      <td>TA1KUSCu8GkWP9w0rmElxw</td>\n",
       "      <td>4</td>\n",
       "      <td>0</td>\n",
       "      <td>0</td>\n",
       "      <td>0</td>\n",
       "      <td>I have been here twice and have had really goo...</td>\n",
       "      <td>2011-10-27 14:32:57</td>\n",
       "      <td>True</td>\n",
       "      <td>...</td>\n",
       "      <td>False</td>\n",
       "      <td>False</td>\n",
       "      <td>True</td>\n",
       "      <td>False</td>\n",
       "      <td>['I', 'have', 'been', 'here', 'twice', 'and', ...</td>\n",
       "      <td>['twice', 'really', 'good', 'food', 'service',...</td>\n",
       "      <td>twice really good food service time get burger...</td>\n",
       "      <td>0.182259</td>\n",
       "      <td>Neutral</td>\n",
       "      <td>2011</td>\n",
       "    </tr>\n",
       "    <tr>\n",
       "      <th>1</th>\n",
       "      <td>egHMQBhFeaLhVyC6w3r0vQ</td>\n",
       "      <td>HvpNr0ohHCaVLp014CQrdw</td>\n",
       "      <td>gGvNgShksetPoimyKV8I9Q</td>\n",
       "      <td>4</td>\n",
       "      <td>0</td>\n",
       "      <td>0</td>\n",
       "      <td>0</td>\n",
       "      <td>Quickly stopped in for a UFC fight. I sat down...</td>\n",
       "      <td>2015-10-04 05:37:01</td>\n",
       "      <td>True</td>\n",
       "      <td>...</td>\n",
       "      <td>False</td>\n",
       "      <td>False</td>\n",
       "      <td>False</td>\n",
       "      <td>True</td>\n",
       "      <td>['Quickly', 'stopped', 'in', 'for', 'a', 'UFC'...</td>\n",
       "      <td>['quickly', 'stop', 'ufc', 'fight', 'sit', 'ba...</td>\n",
       "      <td>quickly stop ufc fight sit bar boyfriend park ...</td>\n",
       "      <td>0.288889</td>\n",
       "      <td>Positive</td>\n",
       "      <td>2015</td>\n",
       "    </tr>\n",
       "    <tr>\n",
       "      <th>2</th>\n",
       "      <td>GDgXjXSZCA1iNQWD7OHXfg</td>\n",
       "      <td>1RCRKuHgP3FskGUVnmFdxg</td>\n",
       "      <td>mOnesB4IF9j6-ZmHoOHOig</td>\n",
       "      <td>4</td>\n",
       "      <td>0</td>\n",
       "      <td>0</td>\n",
       "      <td>0</td>\n",
       "      <td>I think their rice dishes are way better than ...</td>\n",
       "      <td>2017-05-26 03:05:46</td>\n",
       "      <td>True</td>\n",
       "      <td>...</td>\n",
       "      <td>False</td>\n",
       "      <td>False</td>\n",
       "      <td>True</td>\n",
       "      <td>False</td>\n",
       "      <td>['I', 'think', 'their', 'rice', 'dishes', 'are...</td>\n",
       "      <td>['think', 'rice', 'dish', 'way', 'well', 'pho'...</td>\n",
       "      <td>think rice dish way well pho 's also really li...</td>\n",
       "      <td>0.350000</td>\n",
       "      <td>Positive</td>\n",
       "      <td>2017</td>\n",
       "    </tr>\n",
       "    <tr>\n",
       "      <th>3</th>\n",
       "      <td>WxrK52MRJy6Cxk_vOJeD1Q</td>\n",
       "      <td>9d22a-5XXvsZ55p04gI5jA</td>\n",
       "      <td>_gOz7-aHMyGUHOtjDrEv2w</td>\n",
       "      <td>2</td>\n",
       "      <td>4</td>\n",
       "      <td>2</td>\n",
       "      <td>0</td>\n",
       "      <td>When we first arrived at the Coco Key, we were...</td>\n",
       "      <td>2017-09-20 15:38:27</td>\n",
       "      <td>False</td>\n",
       "      <td>...</td>\n",
       "      <td>False</td>\n",
       "      <td>False</td>\n",
       "      <td>True</td>\n",
       "      <td>False</td>\n",
       "      <td>['When', 'we', 'first', 'arrived', 'at', 'the'...</td>\n",
       "      <td>['first', 'arrive', 'coco', 'key', 'greet', 'n...</td>\n",
       "      <td>first arrive coco key greet number staff membe...</td>\n",
       "      <td>-0.071723</td>\n",
       "      <td>Neutral</td>\n",
       "      <td>2017</td>\n",
       "    </tr>\n",
       "    <tr>\n",
       "      <th>4</th>\n",
       "      <td>GgWFjRHhelaiUgR2-H6N4g</td>\n",
       "      <td>pRPT3vqhqpU7kHgmKJamvw</td>\n",
       "      <td>-_GnwXmzC3DXsHR9nyaC2g</td>\n",
       "      <td>3</td>\n",
       "      <td>0</td>\n",
       "      <td>0</td>\n",
       "      <td>0</td>\n",
       "      <td>3.5 stars! I got the avocado margarita and it ...</td>\n",
       "      <td>2012-11-06 07:09:57</td>\n",
       "      <td>True</td>\n",
       "      <td>...</td>\n",
       "      <td>True</td>\n",
       "      <td>False</td>\n",
       "      <td>True</td>\n",
       "      <td>False</td>\n",
       "      <td>['3.5', 'stars!', 'I', 'got', 'the', 'avocado'...</td>\n",
       "      <td>['3.5', 'star', 'get', 'avocado', 'margarita',...</td>\n",
       "      <td>3.5 star get avocado margarita delicious custo...</td>\n",
       "      <td>0.400000</td>\n",
       "      <td>Positive</td>\n",
       "      <td>2012</td>\n",
       "    </tr>\n",
       "    <tr>\n",
       "      <th>...</th>\n",
       "      <td>...</td>\n",
       "      <td>...</td>\n",
       "      <td>...</td>\n",
       "      <td>...</td>\n",
       "      <td>...</td>\n",
       "      <td>...</td>\n",
       "      <td>...</td>\n",
       "      <td>...</td>\n",
       "      <td>...</td>\n",
       "      <td>...</td>\n",
       "      <td>...</td>\n",
       "      <td>...</td>\n",
       "      <td>...</td>\n",
       "      <td>...</td>\n",
       "      <td>...</td>\n",
       "      <td>...</td>\n",
       "      <td>...</td>\n",
       "      <td>...</td>\n",
       "      <td>...</td>\n",
       "      <td>...</td>\n",
       "      <td>...</td>\n",
       "    </tr>\n",
       "    <tr>\n",
       "      <th>214869</th>\n",
       "      <td>Mc6gBUoqj8VNyGHBOTIPCw</td>\n",
       "      <td>_XXa8CyI4uKOdu6RRbWE4g</td>\n",
       "      <td>cs6HfZNykLVitm09jWFqWg</td>\n",
       "      <td>4</td>\n",
       "      <td>5</td>\n",
       "      <td>3</td>\n",
       "      <td>4</td>\n",
       "      <td>I went here for brunch with 2 friends on a Sun...</td>\n",
       "      <td>2018-04-17 00:28:02</td>\n",
       "      <td>False</td>\n",
       "      <td>...</td>\n",
       "      <td>True</td>\n",
       "      <td>False</td>\n",
       "      <td>False</td>\n",
       "      <td>True</td>\n",
       "      <td>['I', 'went', 'here', 'for', 'brunch', 'with',...</td>\n",
       "      <td>['go', 'brunch', '2', 'friend', 'sunday', 'awh...</td>\n",
       "      <td>go brunch 2 friend sunday awhile back buffet s...</td>\n",
       "      <td>0.500000</td>\n",
       "      <td>Positive</td>\n",
       "      <td>2018</td>\n",
       "    </tr>\n",
       "    <tr>\n",
       "      <th>214870</th>\n",
       "      <td>jDMk2EEGG-fkuA2rnCr0zg</td>\n",
       "      <td>KTgetFhipsOG1vWfVuSaiA</td>\n",
       "      <td>cs6HfZNykLVitm09jWFqWg</td>\n",
       "      <td>5</td>\n",
       "      <td>0</td>\n",
       "      <td>0</td>\n",
       "      <td>0</td>\n",
       "      <td>Our group shared dinner entrees and side dishe...</td>\n",
       "      <td>2017-10-13 21:02:12</td>\n",
       "      <td>False</td>\n",
       "      <td>...</td>\n",
       "      <td>True</td>\n",
       "      <td>False</td>\n",
       "      <td>False</td>\n",
       "      <td>True</td>\n",
       "      <td>['Our', 'group', 'shared', 'dinner', 'entrees'...</td>\n",
       "      <td>['group', 'share', 'dinner', 'entree', 'side',...</td>\n",
       "      <td>group share dinner entree side dish best food ...</td>\n",
       "      <td>0.125000</td>\n",
       "      <td>Neutral</td>\n",
       "      <td>2017</td>\n",
       "    </tr>\n",
       "    <tr>\n",
       "      <th>214871</th>\n",
       "      <td>MbmrN5q_JKkokjOdqLXxhQ</td>\n",
       "      <td>SF2Hu55kX9QJDvZETuZ9eg</td>\n",
       "      <td>uXOVFQraz1va1TrtgiqYTg</td>\n",
       "      <td>4</td>\n",
       "      <td>0</td>\n",
       "      <td>0</td>\n",
       "      <td>0</td>\n",
       "      <td>This was a fun place to dine. It is a one chef...</td>\n",
       "      <td>2016-10-31 20:47:16</td>\n",
       "      <td>False</td>\n",
       "      <td>...</td>\n",
       "      <td>True</td>\n",
       "      <td>False</td>\n",
       "      <td>False</td>\n",
       "      <td>False</td>\n",
       "      <td>['This', 'was', 'a', 'fun', 'place', 'to', 'di...</td>\n",
       "      <td>['fun', 'place', 'dine', 'one', 'chef', 'kitch...</td>\n",
       "      <td>fun place dine one chef kitchen wait 1 hr get ...</td>\n",
       "      <td>0.362500</td>\n",
       "      <td>Positive</td>\n",
       "      <td>2016</td>\n",
       "    </tr>\n",
       "    <tr>\n",
       "      <th>214872</th>\n",
       "      <td>2n2PbNLYlQSRs88VrZtrGg</td>\n",
       "      <td>_BwuIa1-qjIL1PdYB_awyA</td>\n",
       "      <td>Gzo1G_mMc2kpduvK2yQFYg</td>\n",
       "      <td>2</td>\n",
       "      <td>0</td>\n",
       "      <td>0</td>\n",
       "      <td>0</td>\n",
       "      <td>The food was ok. I order the pork bites and it...</td>\n",
       "      <td>2015-07-21 13:21:59</td>\n",
       "      <td>False</td>\n",
       "      <td>...</td>\n",
       "      <td>False</td>\n",
       "      <td>False</td>\n",
       "      <td>True</td>\n",
       "      <td>False</td>\n",
       "      <td>['The', 'food', 'was', 'ok.', 'I', 'order', 't...</td>\n",
       "      <td>['food', 'ok', 'order', 'pork', 'bite', 'good'...</td>\n",
       "      <td>food ok order pork bite good wife order combin...</td>\n",
       "      <td>-0.051852</td>\n",
       "      <td>Neutral</td>\n",
       "      <td>2015</td>\n",
       "    </tr>\n",
       "    <tr>\n",
       "      <th>214873</th>\n",
       "      <td>sjSj7jSR7qncgIpO-vtitA</td>\n",
       "      <td>_N50LtqyuBHCHvFpaPv7tw</td>\n",
       "      <td>zioLxtBc9THNS2TOn9xW1w</td>\n",
       "      <td>4</td>\n",
       "      <td>0</td>\n",
       "      <td>0</td>\n",
       "      <td>0</td>\n",
       "      <td>Fish sauce wings.. out of this world. I did ov...</td>\n",
       "      <td>2014-01-04 03:19:41</td>\n",
       "      <td>True</td>\n",
       "      <td>...</td>\n",
       "      <td>True</td>\n",
       "      <td>False</td>\n",
       "      <td>False</td>\n",
       "      <td>False</td>\n",
       "      <td>['Fish', 'sauce', 'wings..', 'out', 'of', 'thi...</td>\n",
       "      <td>['fish', 'sauce', 'wing', '..', 'world', 'esti...</td>\n",
       "      <td>fish sauce wing .. world estimate amount spicy...</td>\n",
       "      <td>0.277778</td>\n",
       "      <td>Positive</td>\n",
       "      <td>2014</td>\n",
       "    </tr>\n",
       "  </tbody>\n",
       "</table>\n",
       "<p>214874 rows × 93 columns</p>\n",
       "</div>"
      ],
      "text/plain": [
       "                     review_id                 user_id  \\\n",
       "0       Gi5LSRmTXoL9Bp4jNGPjLw  hn0ZbitvmlHnF--KJGJ6_A   \n",
       "1       egHMQBhFeaLhVyC6w3r0vQ  HvpNr0ohHCaVLp014CQrdw   \n",
       "2       GDgXjXSZCA1iNQWD7OHXfg  1RCRKuHgP3FskGUVnmFdxg   \n",
       "3       WxrK52MRJy6Cxk_vOJeD1Q  9d22a-5XXvsZ55p04gI5jA   \n",
       "4       GgWFjRHhelaiUgR2-H6N4g  pRPT3vqhqpU7kHgmKJamvw   \n",
       "...                        ...                     ...   \n",
       "214869  Mc6gBUoqj8VNyGHBOTIPCw  _XXa8CyI4uKOdu6RRbWE4g   \n",
       "214870  jDMk2EEGG-fkuA2rnCr0zg  KTgetFhipsOG1vWfVuSaiA   \n",
       "214871  MbmrN5q_JKkokjOdqLXxhQ  SF2Hu55kX9QJDvZETuZ9eg   \n",
       "214872  2n2PbNLYlQSRs88VrZtrGg  _BwuIa1-qjIL1PdYB_awyA   \n",
       "214873  sjSj7jSR7qncgIpO-vtitA  _N50LtqyuBHCHvFpaPv7tw   \n",
       "\n",
       "                   business_id  stars_x  useful_x  funny_x  cool_x  \\\n",
       "0       TA1KUSCu8GkWP9w0rmElxw        4         0        0       0   \n",
       "1       gGvNgShksetPoimyKV8I9Q        4         0        0       0   \n",
       "2       mOnesB4IF9j6-ZmHoOHOig        4         0        0       0   \n",
       "3       _gOz7-aHMyGUHOtjDrEv2w        2         4        2       0   \n",
       "4       -_GnwXmzC3DXsHR9nyaC2g        3         0        0       0   \n",
       "...                        ...      ...       ...      ...     ...   \n",
       "214869  cs6HfZNykLVitm09jWFqWg        4         5        3       4   \n",
       "214870  cs6HfZNykLVitm09jWFqWg        5         0        0       0   \n",
       "214871  uXOVFQraz1va1TrtgiqYTg        4         0        0       0   \n",
       "214872  Gzo1G_mMc2kpduvK2yQFYg        2         0        0       0   \n",
       "214873  zioLxtBc9THNS2TOn9xW1w        4         0        0       0   \n",
       "\n",
       "                                                     text  \\\n",
       "0       I have been here twice and have had really goo...   \n",
       "1       Quickly stopped in for a UFC fight. I sat down...   \n",
       "2       I think their rice dishes are way better than ...   \n",
       "3       When we first arrived at the Coco Key, we were...   \n",
       "4       3.5 stars! I got the avocado margarita and it ...   \n",
       "...                                                   ...   \n",
       "214869  I went here for brunch with 2 friends on a Sun...   \n",
       "214870  Our group shared dinner entrees and side dishe...   \n",
       "214871  This was a fun place to dine. It is a one chef...   \n",
       "214872  The food was ok. I order the pork bites and it...   \n",
       "214873  Fish sauce wings.. out of this world. I did ov...   \n",
       "\n",
       "                       date  attributes.RestaurantsDelivery  ...  BP_street  \\\n",
       "0       2011-10-27 14:32:57                            True  ...      False   \n",
       "1       2015-10-04 05:37:01                            True  ...      False   \n",
       "2       2017-05-26 03:05:46                            True  ...      False   \n",
       "3       2017-09-20 15:38:27                           False  ...      False   \n",
       "4       2012-11-06 07:09:57                            True  ...       True   \n",
       "...                     ...                             ...  ...        ...   \n",
       "214869  2018-04-17 00:28:02                           False  ...       True   \n",
       "214870  2017-10-13 21:02:12                           False  ...       True   \n",
       "214871  2016-10-31 20:47:16                           False  ...       True   \n",
       "214872  2015-07-21 13:21:59                           False  ...      False   \n",
       "214873  2014-01-04 03:19:41                            True  ...       True   \n",
       "\n",
       "        BP_validated BP_lot BP_valet  \\\n",
       "0              False   True    False   \n",
       "1              False  False     True   \n",
       "2              False   True    False   \n",
       "3              False   True    False   \n",
       "4              False   True    False   \n",
       "...              ...    ...      ...   \n",
       "214869         False  False     True   \n",
       "214870         False  False     True   \n",
       "214871         False  False    False   \n",
       "214872         False   True    False   \n",
       "214873         False  False    False   \n",
       "\n",
       "                                                 text_upr  \\\n",
       "0       ['I', 'have', 'been', 'here', 'twice', 'and', ...   \n",
       "1       ['Quickly', 'stopped', 'in', 'for', 'a', 'UFC'...   \n",
       "2       ['I', 'think', 'their', 'rice', 'dishes', 'are...   \n",
       "3       ['When', 'we', 'first', 'arrived', 'at', 'the'...   \n",
       "4       ['3.5', 'stars!', 'I', 'got', 'the', 'avocado'...   \n",
       "...                                                   ...   \n",
       "214869  ['I', 'went', 'here', 'for', 'brunch', 'with',...   \n",
       "214870  ['Our', 'group', 'shared', 'dinner', 'entrees'...   \n",
       "214871  ['This', 'was', 'a', 'fun', 'place', 'to', 'di...   \n",
       "214872  ['The', 'food', 'was', 'ok.', 'I', 'order', 't...   \n",
       "214873  ['Fish', 'sauce', 'wings..', 'out', 'of', 'thi...   \n",
       "\n",
       "                                               lemmatized  \\\n",
       "0       ['twice', 'really', 'good', 'food', 'service',...   \n",
       "1       ['quickly', 'stop', 'ufc', 'fight', 'sit', 'ba...   \n",
       "2       ['think', 'rice', 'dish', 'way', 'well', 'pho'...   \n",
       "3       ['first', 'arrive', 'coco', 'key', 'greet', 'n...   \n",
       "4       ['3.5', 'star', 'get', 'avocado', 'margarita',...   \n",
       "...                                                   ...   \n",
       "214869  ['go', 'brunch', '2', 'friend', 'sunday', 'awh...   \n",
       "214870  ['group', 'share', 'dinner', 'entree', 'side',...   \n",
       "214871  ['fun', 'place', 'dine', 'one', 'chef', 'kitch...   \n",
       "214872  ['food', 'ok', 'order', 'pork', 'bite', 'good'...   \n",
       "214873  ['fish', 'sauce', 'wing', '..', 'world', 'esti...   \n",
       "\n",
       "                                                lemma_str sentiment  \\\n",
       "0       twice really good food service time get burger...  0.182259   \n",
       "1       quickly stop ufc fight sit bar boyfriend park ...  0.288889   \n",
       "2       think rice dish way well pho 's also really li...  0.350000   \n",
       "3       first arrive coco key greet number staff membe... -0.071723   \n",
       "4       3.5 star get avocado margarita delicious custo...  0.400000   \n",
       "...                                                   ...       ...   \n",
       "214869  go brunch 2 friend sunday awhile back buffet s...  0.500000   \n",
       "214870  group share dinner entree side dish best food ...  0.125000   \n",
       "214871  fun place dine one chef kitchen wait 1 hr get ...  0.362500   \n",
       "214872  food ok order pork bite good wife order combin... -0.051852   \n",
       "214873  fish sauce wing .. world estimate amount spicy...  0.277778   \n",
       "\n",
       "        Classification  year  \n",
       "0              Neutral  2011  \n",
       "1             Positive  2015  \n",
       "2             Positive  2017  \n",
       "3              Neutral  2017  \n",
       "4             Positive  2012  \n",
       "...                ...   ...  \n",
       "214869        Positive  2018  \n",
       "214870         Neutral  2017  \n",
       "214871        Positive  2016  \n",
       "214872         Neutral  2015  \n",
       "214873        Positive  2014  \n",
       "\n",
       "[214874 rows x 93 columns]"
      ]
     },
     "metadata": {},
     "output_type": "display_data"
    }
   ],
   "source": [
    "display(dsent)"
   ]
  },
  {
   "cell_type": "code",
   "execution_count": 119,
   "metadata": {},
   "outputs": [],
   "source": [
    "from matplotlib import pyplot as plt\n",
    "from matplotlib.backends.backend_pdf import PdfPages"
   ]
  },
  {
   "cell_type": "code",
   "execution_count": 41,
   "metadata": {},
   "outputs": [
    {
     "data": {
      "text/plain": [
       "city      Classification\n",
       "Atlanta   Positive          20032\n",
       "          Neutral           17124\n",
       "          Negative            739\n",
       "Austin    Positive          37644\n",
       "          Neutral           30480\n",
       "          Negative            962\n",
       "Boston    Positive          22026\n",
       "          Neutral           21243\n",
       "          Negative            799\n",
       "Orlando   Positive          14379\n",
       "          Neutral           12060\n",
       "          Negative            675\n",
       "Portland  Positive          20642\n",
       "          Neutral           15647\n",
       "          Negative            422\n",
       "Name: Classification, dtype: int64"
      ]
     },
     "execution_count": 41,
     "metadata": {},
     "output_type": "execute_result"
    }
   ],
   "source": [
    "#Kolik recenzí je jakých v jakým městě\n",
    "klasifikace = dsent.groupby('city')['Classification'].value_counts()\n",
    "klasifikace"
   ]
  },
  {
   "cell_type": "code",
   "execution_count": 82,
   "metadata": {},
   "outputs": [
    {
     "data": {
      "image/png": "[encoded data removed]",
      "text/plain": [
       "<Figure size 432x288 with 1 Axes>"
      ]
     },
     "metadata": {
      "needs_background": "light"
     },
     "output_type": "display_data"
    }
   ],
   "source": [
    "ax = klasifikace.plot.bar(stacked=True)"
   ]
  },
  {
   "cell_type": "code",
   "execution_count": 20,
   "metadata": {},
   "outputs": [
    {
     "name": "stderr",
     "output_type": "stream",
     "text": [
      "C:\\Users\\Dell\\anaconda\\lib\\site-packages\\ipykernel_launcher.py:2: FutureWarning: Indexing with multiple keys (implicitly converted to a tuple of keys) will be deprecated, use a list instead.\n",
      "  \n"
     ]
    },
    {
     "data": {
      "text/html": [
       "<div>\n",
       "<style scoped>\n",
       "    .dataframe tbody tr th:only-of-type {\n",
       "        vertical-align: middle;\n",
       "    }\n",
       "\n",
       "    .dataframe tbody tr th {\n",
       "        vertical-align: top;\n",
       "    }\n",
       "\n",
       "    .dataframe thead th {\n",
       "        text-align: right;\n",
       "    }\n",
       "</style>\n",
       "<table border=\"1\" class=\"dataframe\">\n",
       "  <thead>\n",
       "    <tr style=\"text-align: right;\">\n",
       "      <th></th>\n",
       "      <th>sentiment</th>\n",
       "      <th>stars_x</th>\n",
       "      <th>useful_x</th>\n",
       "      <th>cool_x</th>\n",
       "      <th>funny_x</th>\n",
       "    </tr>\n",
       "    <tr>\n",
       "      <th>city</th>\n",
       "      <th></th>\n",
       "      <th></th>\n",
       "      <th></th>\n",
       "      <th></th>\n",
       "      <th></th>\n",
       "    </tr>\n",
       "  </thead>\n",
       "  <tbody>\n",
       "    <tr>\n",
       "      <th>Atlanta</th>\n",
       "      <td>0.261732</td>\n",
       "      <td>3.771289</td>\n",
       "      <td>0.901887</td>\n",
       "      <td>0.440296</td>\n",
       "      <td>0.334266</td>\n",
       "    </tr>\n",
       "    <tr>\n",
       "      <th>Austin</th>\n",
       "      <td>0.272134</td>\n",
       "      <td>4.026691</td>\n",
       "      <td>1.014952</td>\n",
       "      <td>0.560461</td>\n",
       "      <td>0.439423</td>\n",
       "    </tr>\n",
       "    <tr>\n",
       "      <th>Boston</th>\n",
       "      <td>0.245616</td>\n",
       "      <td>3.678497</td>\n",
       "      <td>0.943406</td>\n",
       "      <td>0.405124</td>\n",
       "      <td>0.368499</td>\n",
       "    </tr>\n",
       "    <tr>\n",
       "      <th>Orlando</th>\n",
       "      <td>0.256321</td>\n",
       "      <td>3.735377</td>\n",
       "      <td>1.073800</td>\n",
       "      <td>0.502360</td>\n",
       "      <td>0.349782</td>\n",
       "    </tr>\n",
       "    <tr>\n",
       "      <th>Portland</th>\n",
       "      <td>0.279615</td>\n",
       "      <td>4.000409</td>\n",
       "      <td>0.969192</td>\n",
       "      <td>0.531339</td>\n",
       "      <td>0.432295</td>\n",
       "    </tr>\n",
       "  </tbody>\n",
       "</table>\n",
       "</div>"
      ],
      "text/plain": [
       "          sentiment   stars_x  useful_x    cool_x   funny_x\n",
       "city                                                       \n",
       "Atlanta    0.261732  3.771289  0.901887  0.440296  0.334266\n",
       "Austin     0.272134  4.026691  1.014952  0.560461  0.439423\n",
       "Boston     0.245616  3.678497  0.943406  0.405124  0.368499\n",
       "Orlando    0.256321  3.735377  1.073800  0.502360  0.349782\n",
       "Portland   0.279615  4.000409  0.969192  0.531339  0.432295"
      ]
     },
     "execution_count": 20,
     "metadata": {},
     "output_type": "execute_result"
    }
   ],
   "source": [
    "#Jednotlivé průměry hodnot měst - pořadí se celkem shoduje se sentimentem \n",
    "meanh = dsent.groupby('city')['sentiment','stars_x','useful_x','cool_x','funny_x'].mean()\n",
    "meanh"
   ]
  },
  {
   "cell_type": "code",
   "execution_count": 74,
   "metadata": {},
   "outputs": [
    {
     "name": "stderr",
     "output_type": "stream",
     "text": [
      "C:\\Users\\Dell\\anaconda\\lib\\site-packages\\ipykernel_launcher.py:1: FutureWarning: Indexing with multiple keys (implicitly converted to a tuple of keys) will be deprecated, use a list instead.\n",
      "  \"\"\"Entry point for launching an IPython kernel.\n"
     ]
    },
    {
     "data": {
      "text/html": [
       "<div>\n",
       "<style scoped>\n",
       "    .dataframe tbody tr th:only-of-type {\n",
       "        vertical-align: middle;\n",
       "    }\n",
       "\n",
       "    .dataframe tbody tr th {\n",
       "        vertical-align: top;\n",
       "    }\n",
       "\n",
       "    .dataframe thead th {\n",
       "        text-align: right;\n",
       "    }\n",
       "</style>\n",
       "<table border=\"1\" class=\"dataframe\">\n",
       "  <thead>\n",
       "    <tr style=\"text-align: right;\">\n",
       "      <th></th>\n",
       "      <th>stars_x</th>\n",
       "      <th>useful_x</th>\n",
       "      <th>cool_x</th>\n",
       "      <th>funny_x</th>\n",
       "    </tr>\n",
       "    <tr>\n",
       "      <th>city</th>\n",
       "      <th></th>\n",
       "      <th></th>\n",
       "      <th></th>\n",
       "      <th></th>\n",
       "    </tr>\n",
       "  </thead>\n",
       "  <tbody>\n",
       "    <tr>\n",
       "      <th>Atlanta</th>\n",
       "      <td>3.771289</td>\n",
       "      <td>0.901887</td>\n",
       "      <td>0.440296</td>\n",
       "      <td>0.334266</td>\n",
       "    </tr>\n",
       "    <tr>\n",
       "      <th>Austin</th>\n",
       "      <td>4.026691</td>\n",
       "      <td>1.014952</td>\n",
       "      <td>0.560461</td>\n",
       "      <td>0.439423</td>\n",
       "    </tr>\n",
       "    <tr>\n",
       "      <th>Boston</th>\n",
       "      <td>3.678497</td>\n",
       "      <td>0.943406</td>\n",
       "      <td>0.405124</td>\n",
       "      <td>0.368499</td>\n",
       "    </tr>\n",
       "    <tr>\n",
       "      <th>Orlando</th>\n",
       "      <td>3.735377</td>\n",
       "      <td>1.073800</td>\n",
       "      <td>0.502360</td>\n",
       "      <td>0.349782</td>\n",
       "    </tr>\n",
       "    <tr>\n",
       "      <th>Portland</th>\n",
       "      <td>4.000409</td>\n",
       "      <td>0.969192</td>\n",
       "      <td>0.531339</td>\n",
       "      <td>0.432295</td>\n",
       "    </tr>\n",
       "  </tbody>\n",
       "</table>\n",
       "</div>"
      ],
      "text/plain": [
       "           stars_x  useful_x    cool_x   funny_x\n",
       "city                                            \n",
       "Atlanta   3.771289  0.901887  0.440296  0.334266\n",
       "Austin    4.026691  1.014952  0.560461  0.439423\n",
       "Boston    3.678497  0.943406  0.405124  0.368499\n",
       "Orlando   3.735377  1.073800  0.502360  0.349782\n",
       "Portland  4.000409  0.969192  0.531339  0.432295"
      ]
     },
     "execution_count": 74,
     "metadata": {},
     "output_type": "execute_result"
    }
   ],
   "source": [
    "mean1 = dsent.groupby('city')['stars_x','useful_x','cool_x','funny_x'].mean()\n",
    "mean1"
   ]
  },
  {
   "cell_type": "code",
   "execution_count": 76,
   "metadata": {},
   "outputs": [
    {
     "data": {
      "image/png": "[encoded data removed]",
      "text/plain": [
       "<Figure size 432x288 with 1 Axes>"
      ]
     },
     "metadata": {
      "needs_background": "light"
     },
     "output_type": "display_data"
    }
   ],
   "source": [
    "#graf hodnocení uživatelů\n",
    "ax = mean1.plot.bar(rot=0)"
   ]
  },
  {
   "cell_type": "code",
   "execution_count": 78,
   "metadata": {},
   "outputs": [
    {
     "data": {
      "text/plain": [
       "city\n",
       "Atlanta     0.261732\n",
       "Austin      0.272134\n",
       "Boston      0.245616\n",
       "Orlando     0.256321\n",
       "Portland    0.279615\n",
       "Name: sentiment, dtype: float64"
      ]
     },
     "execution_count": 78,
     "metadata": {},
     "output_type": "execute_result"
    }
   ],
   "source": [
    "mean2 = dsent.groupby('city')['sentiment'].mean()\n",
    "mean2"
   ]
  },
  {
   "cell_type": "code",
   "execution_count": 79,
   "metadata": {},
   "outputs": [
    {
     "data": {
      "image/png": "[encoded data removed]",
      "text/plain": [
       "<Figure size 432x288 with 1 Axes>"
      ]
     },
     "metadata": {
      "needs_background": "light"
     },
     "output_type": "display_data"
    }
   ],
   "source": [
    "#graf sentimentu\n",
    "ax = mean2.plot.bar(rot=0)"
   ]
  },
  {
   "cell_type": "code",
   "execution_count": 92,
   "metadata": {},
   "outputs": [
    {
     "data": {
      "image/png": "[encoded data removed]",
      "text/plain": [
       "<Figure size 432x288 with 1 Axes>"
      ]
     },
     "metadata": {
      "needs_background": "light"
     },
     "output_type": "display_data"
    }
   ],
   "source": [
    "ax = meanyear.plot.bar(rot = 10)"
   ]
  },
  {
   "cell_type": "code",
   "execution_count": 88,
   "metadata": {},
   "outputs": [
    {
     "data": {
      "text/plain": [
       "city      year\n",
       "Atlanta   2006    0.169125\n",
       "          2007    0.235214\n",
       "          2008    0.220547\n",
       "          2009    0.238621\n",
       "          2010    0.239373\n",
       "                    ...   \n",
       "Portland  2017    0.288529\n",
       "          2018    0.287172\n",
       "          2019    0.280335\n",
       "          2020    0.277055\n",
       "          2021    0.229222\n",
       "Name: sentiment, Length: 85, dtype: float64"
      ]
     },
     "execution_count": 88,
     "metadata": {},
     "output_type": "execute_result"
    }
   ],
   "source": [
    "meanyear = dsent.groupby(['city', 'year'])['sentiment'].mean()\n",
    "meanyear"
   ]
  },
  {
   "cell_type": "code",
   "execution_count": 93,
   "metadata": {},
   "outputs": [
    {
     "name": "stderr",
     "output_type": "stream",
     "text": [
      "C:\\Users\\Dell\\anaconda\\lib\\site-packages\\ipykernel_launcher.py:1: FutureWarning: Indexing with multiple keys (implicitly converted to a tuple of keys) will be deprecated, use a list instead.\n",
      "  \"\"\"Entry point for launching an IPython kernel.\n"
     ]
    },
    {
     "data": {
      "text/html": [
       "<div>\n",
       "<style scoped>\n",
       "    .dataframe tbody tr th:only-of-type {\n",
       "        vertical-align: middle;\n",
       "    }\n",
       "\n",
       "    .dataframe tbody tr th {\n",
       "        vertical-align: top;\n",
       "    }\n",
       "\n",
       "    .dataframe thead th {\n",
       "        text-align: right;\n",
       "    }\n",
       "</style>\n",
       "<table border=\"1\" class=\"dataframe\">\n",
       "  <thead>\n",
       "    <tr style=\"text-align: right;\">\n",
       "      <th></th>\n",
       "      <th>Ambience_touristy</th>\n",
       "      <th>Ambience_hipster</th>\n",
       "      <th>Ambience_romantic</th>\n",
       "      <th>Ambience_divey</th>\n",
       "      <th>Ambience_intimate</th>\n",
       "      <th>Ambience_trendy</th>\n",
       "      <th>Ambience_upscale</th>\n",
       "      <th>Ambience_classy</th>\n",
       "      <th>Ambience_casual</th>\n",
       "    </tr>\n",
       "    <tr>\n",
       "      <th>city</th>\n",
       "      <th></th>\n",
       "      <th></th>\n",
       "      <th></th>\n",
       "      <th></th>\n",
       "      <th></th>\n",
       "      <th></th>\n",
       "      <th></th>\n",
       "      <th></th>\n",
       "      <th></th>\n",
       "    </tr>\n",
       "  </thead>\n",
       "  <tbody>\n",
       "    <tr>\n",
       "      <th>Atlanta</th>\n",
       "      <td>0.000000</td>\n",
       "      <td>0.090065</td>\n",
       "      <td>0.014646</td>\n",
       "      <td>0.034015</td>\n",
       "      <td>0.011875</td>\n",
       "      <td>0.376540</td>\n",
       "      <td>0.040902</td>\n",
       "      <td>0.684022</td>\n",
       "      <td>0.583481</td>\n",
       "    </tr>\n",
       "    <tr>\n",
       "      <th>Austin</th>\n",
       "      <td>0.005110</td>\n",
       "      <td>0.060678</td>\n",
       "      <td>0.032279</td>\n",
       "      <td>0.000000</td>\n",
       "      <td>0.027574</td>\n",
       "      <td>0.212083</td>\n",
       "      <td>0.036172</td>\n",
       "      <td>0.718742</td>\n",
       "      <td>0.696567</td>\n",
       "    </tr>\n",
       "    <tr>\n",
       "      <th>Boston</th>\n",
       "      <td>0.000000</td>\n",
       "      <td>0.008237</td>\n",
       "      <td>0.040914</td>\n",
       "      <td>0.054961</td>\n",
       "      <td>0.030521</td>\n",
       "      <td>0.231824</td>\n",
       "      <td>0.036512</td>\n",
       "      <td>0.647976</td>\n",
       "      <td>0.491014</td>\n",
       "    </tr>\n",
       "    <tr>\n",
       "      <th>Orlando</th>\n",
       "      <td>0.094195</td>\n",
       "      <td>0.000000</td>\n",
       "      <td>0.029099</td>\n",
       "      <td>0.045512</td>\n",
       "      <td>0.016449</td>\n",
       "      <td>0.182968</td>\n",
       "      <td>0.061997</td>\n",
       "      <td>0.535996</td>\n",
       "      <td>0.610570</td>\n",
       "    </tr>\n",
       "    <tr>\n",
       "      <th>Portland</th>\n",
       "      <td>0.000000</td>\n",
       "      <td>0.228406</td>\n",
       "      <td>0.000000</td>\n",
       "      <td>0.021356</td>\n",
       "      <td>0.045327</td>\n",
       "      <td>0.204952</td>\n",
       "      <td>0.015826</td>\n",
       "      <td>0.625344</td>\n",
       "      <td>0.701425</td>\n",
       "    </tr>\n",
       "  </tbody>\n",
       "</table>\n",
       "</div>"
      ],
      "text/plain": [
       "          Ambience_touristy  Ambience_hipster  Ambience_romantic  \\\n",
       "city                                                               \n",
       "Atlanta            0.000000          0.090065           0.014646   \n",
       "Austin             0.005110          0.060678           0.032279   \n",
       "Boston             0.000000          0.008237           0.040914   \n",
       "Orlando            0.094195          0.000000           0.029099   \n",
       "Portland           0.000000          0.228406           0.000000   \n",
       "\n",
       "          Ambience_divey  Ambience_intimate  Ambience_trendy  \\\n",
       "city                                                           \n",
       "Atlanta         0.034015           0.011875         0.376540   \n",
       "Austin          0.000000           0.027574         0.212083   \n",
       "Boston          0.054961           0.030521         0.231824   \n",
       "Orlando         0.045512           0.016449         0.182968   \n",
       "Portland        0.021356           0.045327         0.204952   \n",
       "\n",
       "          Ambience_upscale  Ambience_classy  Ambience_casual  \n",
       "city                                                          \n",
       "Atlanta           0.040902         0.684022         0.583481  \n",
       "Austin            0.036172         0.718742         0.696567  \n",
       "Boston            0.036512         0.647976         0.491014  \n",
       "Orlando           0.061997         0.535996         0.610570  \n",
       "Portland          0.015826         0.625344         0.701425  "
      ]
     },
     "execution_count": 93,
     "metadata": {},
     "output_type": "execute_result"
    }
   ],
   "source": [
    "meanamb = dsent.groupby('city')['Ambience_touristy','Ambience_hipster','Ambience_romantic','Ambience_divey','Ambience_intimate','Ambience_trendy','Ambience_upscale','Ambience_classy','Ambience_casual'].mean()\n",
    "meanamb\n",
    "\n",
    "meanamb.to_csv('meanamb.csv')"
   ]
  },
  {
   "cell_type": "code",
   "execution_count": 124,
   "metadata": {},
   "outputs": [
    {
     "data": {
      "image/png": "[encoded data removed]",
      "text/plain": [
       "<Figure size 432x288 with 1 Axes>"
      ]
     },
     "metadata": {
      "needs_background": "light"
     },
     "output_type": "display_data"
    }
   ],
   "source": [
    "from matplotlib.backends.backend_pdf import PdfPages\n",
    "j = plt.figure()\n",
    "plt.title('Mean of recommendation of ambience among cities', color='black')\n",
    "meanamb.plot(kind='bar', ax=j.gca())\n",
    "plt.legend(loc='center left', bbox_to_anchor=(1.0, 0.5))\n",
    "plt.show()\n",
    "\n",
    "j.savefig('meanamb.pdf',bbox_inches='tight')"
   ]
  },
  {
   "cell_type": "code",
   "execution_count": 105,
   "metadata": {},
   "outputs": [
    {
     "name": "stderr",
     "output_type": "stream",
     "text": [
      "C:\\Users\\Dell\\anaconda\\lib\\site-packages\\ipykernel_launcher.py:1: FutureWarning: Indexing with multiple keys (implicitly converted to a tuple of keys) will be deprecated, use a list instead.\n",
      "  \"\"\"Entry point for launching an IPython kernel.\n"
     ]
    }
   ],
   "source": [
    "meangfm = dsent.groupby('city')['Good_Meals_dessert','Good_Meals_latenight','Good_Meals_lunch', 'Good_Meals_dinner','Good_Meals_brunch','Good_Meals_breakfast'].mean()\n",
    "meangfm\n",
    "\n",
    "meangfm.to_csv('meangfm.csv')"
   ]
  },
  {
   "cell_type": "code",
   "execution_count": 125,
   "metadata": {},
   "outputs": [
    {
     "data": {
      "image/png": "[encoded data removed]",
      "text/plain": [
       "<Figure size 432x288 with 1 Axes>"
      ]
     },
     "metadata": {
      "needs_background": "light"
     },
     "output_type": "display_data"
    }
   ],
   "source": [
    "h = plt.figure()\n",
    "plt.title('Mean of recommendation of good meals among cities', color='black')\n",
    "meangfm.plot(kind='bar', ax=h.gca())\n",
    "plt.legend(loc='center left', bbox_to_anchor=(1.0, 0.5))\n",
    "plt.show()\n",
    "\n",
    "h.savefig('meangfm.pdf',bbox_inches='tight')"
   ]
  },
  {
   "cell_type": "code",
   "execution_count": 106,
   "metadata": {},
   "outputs": [
    {
     "name": "stderr",
     "output_type": "stream",
     "text": [
      "C:\\Users\\Dell\\anaconda\\lib\\site-packages\\ipykernel_launcher.py:1: FutureWarning: Indexing with multiple keys (implicitly converted to a tuple of keys) will be deprecated, use a list instead.\n",
      "  \"\"\"Entry point for launching an IPython kernel.\n"
     ]
    }
   ],
   "source": [
    "meanbp = dsent.groupby('city')['BP_garage', 'BP_street', 'BP_validated', 'BP_lot', 'BP_valet'].mean()\n",
    "meanbp\n",
    "\n",
    "meanbp.to_csv('meanbp.csv')"
   ]
  },
  {
   "cell_type": "code",
   "execution_count": 126,
   "metadata": {},
   "outputs": [
    {
     "data": {
      "image/png": "[encoded data removed]",
      "text/plain": [
       "<Figure size 432x288 with 1 Axes>"
      ]
     },
     "metadata": {
      "needs_background": "light"
     },
     "output_type": "display_data"
    }
   ],
   "source": [
    "f = plt.figure()\n",
    "plt.title('Mean of recommendation of business parking among cities', color='black')\n",
    "meanbp.plot(kind='bar', ax=f.gca())\n",
    "plt.legend(loc='center left', bbox_to_anchor=(1.0, 0.5))\n",
    "plt.show()\n",
    "\n",
    "f.savefig('meanbp.pdf',bbox_inches='tight')"
   ]
  },
  {
   "cell_type": "code",
   "execution_count": null,
   "metadata": {},
   "outputs": [],
   "source": []
  }
 ],
 "metadata": {
  "kernelspec": {
   "display_name": "Python 3 (ipykernel)",
   "language": "python",
   "name": "python3"
  },
  "language_info": {
   "codemirror_mode": {
    "name": "ipython",
    "version": 3
   },
   "file_extension": ".py",
   "mimetype": "text/x-python",
   "name": "python",
   "nbconvert_exporter": "python",
   "pygments_lexer": "ipython3",
   "version": "3.7.9"
  }
 },
 "nbformat": 4,
 "nbformat_minor": 4
}
